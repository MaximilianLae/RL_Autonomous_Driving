{
 "cells": [
  {
   "cell_type": "markdown",
   "id": "c408d461",
   "metadata": {},
   "source": [
    "# Reinforcement Learning Final Project \n",
    "\n",
    "Welcome to your Reinforcement Learning project! Join in groups of a maximum of 5 students on a project focused on developing an RL agent capable of solving an environment for decision-making in Autonomous Driving. The project deadline has been set to the 2nd of June.\n",
    "\n",
    "Autonomous Driving has long been considered a field in which RL algorithms excel, and this project aims to leverage the power of RL to create an intelligent agent that can solve the Farama’s foundation “highway-env” project, namely the Highway environment (refer to https://highway-env.farama.org/environments/highway/).\n",
    "\n",
    "## Project Requirements:\n",
    "\n",
    "* The environments observation’s format can vary according to our preference, namely Kinematics, Grayscale Image, Occupancy grid and Time to collision (refer to https://highway-env.farama.org/observations/). In your solutions you should use 2 of these types.\n",
    "* The agents actions can also vary, as continuous actions, discrete actions and discrete meta-actions (refer to https://highway-env.farama.org/actions/). In your solutions you should use 2 of these types.\n",
    "* As for the algorithms to use, any algorithm is valid (seen or not in class), with a minimum requirement of 3 different algorithms used.\n",
    "* Apart from the environment observation types and agent action types you must use environment’s configuration provided in the annexed notebook!\n",
    "Note: Your delivery should comprise 4 solutions to the highway environment (corresponding to the combinations of the two environment observation’s types and the two agent’s action types), in which you just need to use one algorithm for each combination (knowing that you need to use at least 3 different algorithms).\n",
    "\n",
    "\n",
    "## Project Objectives:\n",
    "\n",
    "* Train an RL agent to solve the Highway environment: The primary objective of this project is to develop an RL agent that can maximize the reward given by the highway environment (refer to https://highway-env.farama.org/rewards/), which leverages to maximize speed while minimizing crash risk! \n",
    "* Optimize decision-making using RL algorithms: Explore different RL algorithms to train the agent. Compare and analyse their effectiveness in learning and decision-making capabilities in the context of the environment.\n",
    "* Explore and expand on the reward system: Although you should evaluate your agent with the reward function provided by the environment, you could/should expand it to better train your agent.\n",
    "* Enhance interpretability and analysis: Develop methods to analyse the agent's decision-making process and provide insights into its strategic thinking. Investigate techniques to visualize the agent's evaluation of chess positions and understand its reasoning behind specific moves.\n",
    "\n",
    "\n",
    "\n",
    "### Extra Objectives:\n",
    "\n",
    "* Investigate transfer learning and generalization: Explore techniques for transfer learning to leverage knowledge acquired in related domains or from pre-training on large chess datasets. Investigate the agent's ability to generalize its knowledge.\n",
    "* Explore multi agent approaches: The environment allows you to use more than one agent per episode. Explore multi agent alternatives to improve your learning times and overall benchmarks.\n"
   ]
  },
  {
   "cell_type": "markdown",
   "id": "78aabeb2",
   "metadata": {},
   "source": [
    "## Imports Required\n",
    "\n",
    "You might need to restart the kernel after installation"
   ]
  },
  {
   "cell_type": "code",
   "execution_count": 1,
   "id": "9221cf06",
   "metadata": {},
   "outputs": [
    {
     "name": "stdout",
     "output_type": "stream",
     "text": [
      "Requirement already satisfied: highway-env in c:\\anaconda\\lib\\site-packages (1.8.2)\n",
      "Requirement already satisfied: gymnasium in c:\\anaconda\\lib\\site-packages (0.29.1)\n",
      "Requirement already satisfied: numpy in c:\\anaconda\\lib\\site-packages (from highway-env) (1.24.3)\n",
      "Requirement already satisfied: pygame>=2.0.2 in c:\\anaconda\\lib\\site-packages (from highway-env) (2.5.2)\n",
      "Requirement already satisfied: matplotlib in c:\\anaconda\\lib\\site-packages (from highway-env) (3.7.2)\n",
      "Requirement already satisfied: pandas in c:\\anaconda\\lib\\site-packages (from highway-env) (2.0.3)\n",
      "Requirement already satisfied: scipy in c:\\anaconda\\lib\\site-packages (from highway-env) (1.11.1)\n",
      "Requirement already satisfied: cloudpickle>=1.2.0 in c:\\anaconda\\lib\\site-packages (from gymnasium) (2.2.1)\n",
      "Requirement already satisfied: typing-extensions>=4.3.0 in c:\\anaconda\\lib\\site-packages (from gymnasium) (4.7.1)\n",
      "Requirement already satisfied: farama-notifications>=0.0.1 in c:\\anaconda\\lib\\site-packages (from gymnasium) (0.0.4)\n",
      "Requirement already satisfied: contourpy>=1.0.1 in c:\\anaconda\\lib\\site-packages (from matplotlib->highway-env) (1.0.5)\n",
      "Requirement already satisfied: cycler>=0.10 in c:\\anaconda\\lib\\site-packages (from matplotlib->highway-env) (0.11.0)\n",
      "Requirement already satisfied: fonttools>=4.22.0 in c:\\anaconda\\lib\\site-packages (from matplotlib->highway-env) (4.25.0)\n",
      "Requirement already satisfied: kiwisolver>=1.0.1 in c:\\anaconda\\lib\\site-packages (from matplotlib->highway-env) (1.4.4)\n",
      "Requirement already satisfied: packaging>=20.0 in c:\\anaconda\\lib\\site-packages (from matplotlib->highway-env) (23.1)\n",
      "Requirement already satisfied: pillow>=6.2.0 in c:\\anaconda\\lib\\site-packages (from matplotlib->highway-env) (9.4.0)\n",
      "Requirement already satisfied: pyparsing<3.1,>=2.3.1 in c:\\anaconda\\lib\\site-packages (from matplotlib->highway-env) (3.0.9)\n",
      "Requirement already satisfied: python-dateutil>=2.7 in c:\\anaconda\\lib\\site-packages (from matplotlib->highway-env) (2.8.2)\n",
      "Requirement already satisfied: pytz>=2020.1 in c:\\anaconda\\lib\\site-packages (from pandas->highway-env) (2022.7)\n",
      "Requirement already satisfied: tzdata>=2022.1 in c:\\anaconda\\lib\\site-packages (from pandas->highway-env) (2023.3)\n",
      "Requirement already satisfied: six>=1.5 in c:\\anaconda\\lib\\site-packages (from python-dateutil>=2.7->matplotlib->highway-env) (1.16.0)\n"
     ]
    }
   ],
   "source": [
    "!pip install highway-env gymnasium"
   ]
  },
  {
   "cell_type": "code",
   "execution_count": 2,
   "id": "a0b431af",
   "metadata": {},
   "outputs": [],
   "source": [
    "import gymnasium as gym\n",
    "\n",
    "import time\n",
    "import numpy as np\n",
    "import matplotlib.pyplot as plt\n",
    "from collections import defaultdict\n",
    "from tqdm.notebook import tqdm\n",
    "import cv2\n",
    "import os"
   ]
  },
  {
   "cell_type": "markdown",
   "id": "9f15ebae",
   "metadata": {},
   "source": [
    "## Environment Configuration\n",
    "\n",
    "Apart from the environment observation types and agent action types you must use some of the environment’s configurations provided bellow!"
   ]
  },
  {
   "cell_type": "code",
   "execution_count": 3,
   "id": "ee4117ac",
   "metadata": {},
   "outputs": [
    {
     "data": {
      "text/plain": [
       "' configuration = {\\n\\n    # Parametrization bellow cannot be changed\\n    \"lanes_count\": 10, # The environment must always have 10 lanes\\n    \"vehicles_count\": 50, # The environment must always have 50 other vehicles\\n    \"duration\": 120,  # [s] The environment must terminate never before 120 seconds\\n    \"other_vehicles_type\": \"highway_env.vehicle.behavior.IDMVehicle\", # This is the policy of the other vehicles\\n    \"initial_spacing\": 2, # Initial spacing between vehicles needs to be at most 2\\n\\n    # Refer to refer to https://highway-env.farama.org/observations/ to change observation space type\\n    \"observation\": {\\n        \"type\": \"Kinematics\"\\n    },\\n\\n    # Refer to refer to https://highway-env.farama.org/actions/ to change action space type\\n    \"action\": {\\n        \"type\": \"DiscreteMetaAction\",\\n    },\\n\\n    # Parameterization bellow can be changed (as it refers mostly to the reward system)\\n    \"collision_reward\": -1,  # The reward received when colliding with a vehicle. (Can be changed)\\n    \"reward_speed_range\": [20, 30],  # [m/s] The reward for high speed is mapped linearly from this range to [0, HighwayEnv.HIGH_SPEED_REWARD]. (Can be changed)\\n    \"simulation_frequency\": 15,  # [Hz] (Can be changed)\\n    \"policy_frequency\": 1,  # [Hz] (Can be changed)\\n    \\n    # Parameters defined bellow are purely for visualiztion purposes! You can alter them as you please\\n    \"screen_width\": 800,  # [px]\\n    \"screen_height\": 600,  # [px]\\n    \"centering_position\": [0.5, 0.5],\\n    \"scaling\": 5,\\n    \"show_trajectories\": False,\\n    \"render_agent\": True,\\n    \"offscreen_rendering\": False\\n} '"
      ]
     },
     "execution_count": 3,
     "metadata": {},
     "output_type": "execute_result"
    }
   ],
   "source": [
    "\"\"\" configuration = {\n",
    "\n",
    "    # Parametrization bellow cannot be changed\n",
    "    \"lanes_count\": 10, # The environment must always have 10 lanes\n",
    "    \"vehicles_count\": 50, # The environment must always have 50 other vehicles\n",
    "    \"duration\": 120,  # [s] The environment must terminate never before 120 seconds\n",
    "    \"other_vehicles_type\": \"highway_env.vehicle.behavior.IDMVehicle\", # This is the policy of the other vehicles\n",
    "    \"initial_spacing\": 2, # Initial spacing between vehicles needs to be at most 2\n",
    "\n",
    "    # Refer to refer to https://highway-env.farama.org/observations/ to change observation space type\n",
    "    \"observation\": {\n",
    "        \"type\": \"Kinematics\"\n",
    "    },\n",
    "\n",
    "    # Refer to refer to https://highway-env.farama.org/actions/ to change action space type\n",
    "    \"action\": {\n",
    "        \"type\": \"DiscreteMetaAction\",\n",
    "    },\n",
    "\n",
    "    # Parameterization bellow can be changed (as it refers mostly to the reward system)\n",
    "    \"collision_reward\": -1,  # The reward received when colliding with a vehicle. (Can be changed)\n",
    "    \"reward_speed_range\": [20, 30],  # [m/s] The reward for high speed is mapped linearly from this range to [0, HighwayEnv.HIGH_SPEED_REWARD]. (Can be changed)\n",
    "    \"simulation_frequency\": 15,  # [Hz] (Can be changed)\n",
    "    \"policy_frequency\": 1,  # [Hz] (Can be changed)\n",
    "    \n",
    "    # Parameters defined bellow are purely for visualiztion purposes! You can alter them as you please\n",
    "    \"screen_width\": 800,  # [px]\n",
    "    \"screen_height\": 600,  # [px]\n",
    "    \"centering_position\": [0.5, 0.5],\n",
    "    \"scaling\": 5,\n",
    "    \"show_trajectories\": False,\n",
    "    \"render_agent\": True,\n",
    "    \"offscreen_rendering\": False\n",
    "} \"\"\""
   ]
  },
  {
   "cell_type": "markdown",
   "id": "c52431cb",
   "metadata": {},
   "source": [
    "## Example Solution\n",
    "### Solution 0\n",
    "Environment Observation Type: **Kinematics** \\\n",
    "Agent Action Type: **DiscreteMetaAction** \\\n",
    "Algorithm Used: **Random**\n",
    "\n",
    "Example of the environment's usage using a random policy."
   ]
  },
  {
   "cell_type": "code",
   "execution_count": 4,
   "id": "196cb827",
   "metadata": {},
   "outputs": [
    {
     "data": {
      "text/plain": [
       "\" env = env = gym.make('highway-v0', render_mode='human', config=configuration)\\n\\nobs, info = env.reset(seed=42)\\ndone = truncated = False\\n\\nReturn = 0\\nn_steps = 1\\nEpisode = 0\\nwhile not (done or truncated):\\n  # Dispatch the observations to the model to get the tuple of actions\\n  action = env.action_space.sample()\\n  # Execute the actions\\n  next_obs, reward, done, truncated, info = env.step(action)\\n  Return+=reward\\n\\n  print('Episode: {}, Step: {}, Return: {}'.format(Episode, n_steps, round(Return,2)))\\n  n_steps+=1\\nenv.close() \""
      ]
     },
     "execution_count": 4,
     "metadata": {},
     "output_type": "execute_result"
    }
   ],
   "source": [
    "\"\"\" env = env = gym.make('highway-v0', render_mode='human', config=configuration)\n",
    "\n",
    "obs, info = env.reset(seed=42)\n",
    "done = truncated = False\n",
    "\n",
    "Return = 0\n",
    "n_steps = 1\n",
    "Episode = 0\n",
    "while not (done or truncated):\n",
    "  # Dispatch the observations to the model to get the tuple of actions\n",
    "  action = env.action_space.sample()\n",
    "  # Execute the actions\n",
    "  next_obs, reward, done, truncated, info = env.step(action)\n",
    "  Return+=reward\n",
    "\n",
    "  print('Episode: {}, Step: {}, Return: {}'.format(Episode, n_steps, round(Return,2)))\n",
    "  n_steps+=1\n",
    "env.close() \"\"\""
   ]
  },
  {
   "cell_type": "markdown",
   "id": "b653a88d",
   "metadata": {},
   "source": [
    "### Solution 1\n",
    "Environment Observation Type: \\\n",
    "Agent Action Type: \\\n",
    "Algorithm Used: "
   ]
  },
  {
   "cell_type": "code",
   "execution_count": 5,
   "id": "2a9fdf0f",
   "metadata": {},
   "outputs": [],
   "source": [
    "configuration = {\n",
    "    \"lanes_count\": 10,\n",
    "    \"vehicles_count\": 50,\n",
    "    \"duration\": 120,\n",
    "    \"other_vehicles_type\": \"highway_env.vehicle.behavior.IDMVehicle\",\n",
    "    \"initial_spacing\": 2,\n",
    "    \"observation\": {\n",
    "        \"type\": \"OccupancyGrid\"  # Using Occupancy Grid for discretized observations\n",
    "    },\n",
    "    \"action\": {\n",
    "        \"type\": \"DiscreteMetaAction\"  # Using Discrete Meta Actions\n",
    "    },\n",
    "    \"collision_reward\": -1,\n",
    "    \"reward_speed_range\": [20, 30],\n",
    "    \"simulation_frequency\": 15,\n",
    "    \"policy_frequency\": 1,\n",
    "    \"screen_width\": 800,\n",
    "    \"screen_height\": 600,\n",
    "    \"centering_position\": [0.5, 0.5],\n",
    "    \"scaling\": 5,\n",
    "    \"show_trajectories\": False,\n",
    "    \"render_agent\": True,\n",
    "    \"offscreen_rendering\": False\n",
    "}\n",
    "\n",
    "env = gym.make('highway-v0', render_mode='human', config=configuration)\n"
   ]
  },
  {
   "cell_type": "code",
   "execution_count": 6,
   "id": "abf27314",
   "metadata": {},
   "outputs": [],
   "source": [
    "class QLearningAgent:\n",
    "    def __init__(self, action_space, learning_rate=0.1, discount_factor=0.99, exploration_rate=1.0, exploration_decay=0.99):\n",
    "        self.action_space = action_space\n",
    "        self.learning_rate = learning_rate\n",
    "        self.discount_factor = discount_factor\n",
    "        self.exploration_rate = exploration_rate\n",
    "        self.exploration_decay = exploration_decay\n",
    "        self.q_table = defaultdict(lambda: np.zeros(action_space.n))\n",
    "\n",
    "    def choose_action(self, state):\n",
    "        if np.random.rand() < self.exploration_rate:\n",
    "            return self.action_space.sample()\n",
    "        else:\n",
    "            return np.argmax(self.q_table[state])\n",
    "\n",
    "    def update_q_value(self, state, action, reward, next_state, done):\n",
    "        best_next_action = np.argmax(self.q_table[next_state])\n",
    "        td_target = reward + self.discount_factor * self.q_table[next_state][best_next_action] * (1 - done)\n",
    "        td_delta = td_target - self.q_table[state][action]\n",
    "        self.q_table[state][action] += self.learning_rate * td_delta\n",
    "        if done:\n",
    "            self.exploration_rate *= self.exploration_decay\n",
    "\n",
    "    def discretize_state(self, obs):\n",
    "        # Convert the observation (Occupancy Grid) into a hashable state\n",
    "        return tuple(map(tuple, obs[0]))  # Assuming the first dimension is 1\n",
    "\n",
    "agent = QLearningAgent(env.action_space)\n"
   ]
  },
  {
   "cell_type": "code",
   "execution_count": 7,
   "id": "68a3a75b",
   "metadata": {},
   "outputs": [],
   "source": [
    "def train_agent(agent, env, n_episodes=100, max_steps=200):\n",
    "    returns = []\n",
    "\n",
    "    for episode in tqdm(range(n_episodes)):\n",
    "        obs, info = env.reset()\n",
    "        state = agent.discretize_state(obs)\n",
    "        total_reward = 0\n",
    "        done = truncated = False\n",
    "\n",
    "        for step in range(max_steps):\n",
    "            action = agent.choose_action(state)\n",
    "            next_obs, reward, done, truncated, info = env.step(action)\n",
    "            next_state = agent.discretize_state(next_obs)\n",
    "            agent.update_q_value(state, action, reward, next_state, done)\n",
    "            state = next_state\n",
    "            total_reward += reward\n",
    "\n",
    "            if done or truncated:\n",
    "                break\n",
    "\n",
    "        returns.append(total_reward)\n",
    "        print(f'Episode {episode + 1}/{n_episodes}, Total Reward: {total_reward}')\n",
    "\n",
    "    return returns"
   ]
  },
  {
   "cell_type": "code",
   "execution_count": 8,
   "id": "2c83c25a",
   "metadata": {},
   "outputs": [
    {
     "data": {
      "application/vnd.jupyter.widget-view+json": {
       "model_id": "0e96418944854c01a96e84863915d844",
       "version_major": 2,
       "version_minor": 0
      },
      "text/plain": [
       "  0%|          | 0/100 [00:00<?, ?it/s]"
      ]
     },
     "metadata": {},
     "output_type": "display_data"
    },
    {
     "name": "stdout",
     "output_type": "stream",
     "text": [
      "Episode 1/100, Total Reward: 15.469223917113096\n",
      "Episode 2/100, Total Reward: 7.903657589662035\n",
      "Episode 3/100, Total Reward: 16.690678412642583\n",
      "Episode 4/100, Total Reward: 6.081503469846561\n",
      "Episode 5/100, Total Reward: 1.5816714829422627\n",
      "Episode 6/100, Total Reward: 10.536318257111228\n",
      "Episode 7/100, Total Reward: 1.9350527579143448\n",
      "Episode 8/100, Total Reward: 22.779006143137188\n",
      "Episode 9/100, Total Reward: 4.406963574169743\n",
      "Episode 10/100, Total Reward: 36.82314983742398\n",
      "Episode 11/100, Total Reward: 7.220411009376247\n",
      "Episode 12/100, Total Reward: 5.86362586719475\n",
      "Episode 13/100, Total Reward: 4.008341607953387\n",
      "Episode 14/100, Total Reward: 8.939176393874508\n",
      "Episode 15/100, Total Reward: 3.4668828616508502\n",
      "Episode 16/100, Total Reward: 2.7350527579143447\n",
      "Episode 17/100, Total Reward: 5.5602275483283155\n",
      "Episode 18/100, Total Reward: 13.112612161382431\n",
      "Episode 19/100, Total Reward: 2.853603711746298\n",
      "Episode 20/100, Total Reward: 2.232218207159155\n",
      "Episode 21/100, Total Reward: 0.7709332460983\n",
      "Episode 22/100, Total Reward: 15.036906837646658\n",
      "Episode 23/100, Total Reward: 9.626456591840714\n",
      "Episode 24/100, Total Reward: 11.481749637017305\n",
      "Episode 25/100, Total Reward: 5.105768689867135\n",
      "Episode 26/100, Total Reward: 5.132895069081494\n",
      "Episode 27/100, Total Reward: 3.3090492901063198\n",
      "Episode 28/100, Total Reward: 20.216172509203698\n",
      "Episode 29/100, Total Reward: 10.579991603485324\n",
      "Episode 30/100, Total Reward: 8.152331663647086\n",
      "Episode 31/100, Total Reward: 13.053995765202732\n",
      "Episode 32/100, Total Reward: 4.445853784632749\n",
      "Episode 33/100, Total Reward: 6.003107453926514\n",
      "Episode 34/100, Total Reward: 3.658953597492107\n",
      "Episode 35/100, Total Reward: 39.360108417634216\n",
      "Episode 36/100, Total Reward: 34.938395681644074\n",
      "Episode 37/100, Total Reward: 12.379826160754098\n",
      "Episode 38/100, Total Reward: 7.0298687146532615\n",
      "Episode 39/100, Total Reward: 13.7684130894103\n",
      "Episode 40/100, Total Reward: 20.16204022799847\n",
      "Episode 41/100, Total Reward: 5.806413056254649\n",
      "Episode 42/100, Total Reward: 0.14666069450620842\n",
      "Episode 43/100, Total Reward: 4.657042237830677\n",
      "Episode 44/100, Total Reward: 8.788364916317578\n",
      "Episode 45/100, Total Reward: 5.180038516852085\n",
      "Episode 46/100, Total Reward: 3.002285438113279\n",
      "Episode 47/100, Total Reward: 32.09576797221823\n",
      "Episode 48/100, Total Reward: 5.902051272589494\n",
      "Episode 49/100, Total Reward: 13.072016619169684\n",
      "Episode 50/100, Total Reward: 3.4550517704811403\n",
      "Episode 51/100, Total Reward: 6.708946398672772\n",
      "Episode 52/100, Total Reward: 54.365038062462844\n",
      "Episode 53/100, Total Reward: 2.763195132733904\n",
      "Episode 54/100, Total Reward: 8.810498875418293\n",
      "Episode 55/100, Total Reward: 8.712217361706553\n",
      "Episode 56/100, Total Reward: 15.388724463373464\n",
      "Episode 57/100, Total Reward: 16.66466552829894\n",
      "Episode 58/100, Total Reward: 9.572957550449662\n",
      "Episode 59/100, Total Reward: 23.96639741893313\n",
      "Episode 60/100, Total Reward: 16.552944272091302\n",
      "Episode 61/100, Total Reward: 3.5126690037033947\n",
      "Episode 62/100, Total Reward: 2.4059199537654674\n",
      "Episode 63/100, Total Reward: 0.9022162500617639\n",
      "Episode 64/100, Total Reward: 0.963285773013185\n",
      "Episode 65/100, Total Reward: 11.800937489491128\n",
      "Episode 66/100, Total Reward: 9.554310960974199\n",
      "Episode 67/100, Total Reward: 7.470187552377817\n",
      "Episode 68/100, Total Reward: 0.9096236574691713\n",
      "Episode 69/100, Total Reward: 12.364623090026383\n",
      "Episode 70/100, Total Reward: 33.39174659176218\n",
      "Episode 71/100, Total Reward: 2.514537434638622\n",
      "Episode 72/100, Total Reward: 51.021648154705424\n",
      "Episode 73/100, Total Reward: 17.96881349863686\n",
      "Episode 74/100, Total Reward: 5.658679148445662\n",
      "Episode 75/100, Total Reward: 9.616063489684723\n",
      "Episode 76/100, Total Reward: 2.6757934986550858\n",
      "Episode 77/100, Total Reward: 2.5004561017091484\n",
      "Episode 78/100, Total Reward: 7.914285925938951\n",
      "Episode 79/100, Total Reward: 13.125191234542216\n",
      "Episode 80/100, Total Reward: 3.9135047406468946\n",
      "Episode 81/100, Total Reward: 9.773609768415302\n",
      "Episode 82/100, Total Reward: 21.997049574085317\n",
      "Episode 83/100, Total Reward: 14.590348100584256\n",
      "Episode 84/100, Total Reward: 13.133408612920867\n",
      "Episode 85/100, Total Reward: 1.7250884466357719\n",
      "Episode 86/100, Total Reward: 7.047952085928516\n",
      "Episode 87/100, Total Reward: 3.8533489210086844\n",
      "Episode 88/100, Total Reward: 85.3204665063734\n",
      "Episode 89/100, Total Reward: 20.99678756437622\n",
      "Episode 90/100, Total Reward: 44.373678670335494\n",
      "Episode 91/100, Total Reward: 12.191408615911385\n",
      "Episode 92/100, Total Reward: 32.01463828636509\n",
      "Episode 93/100, Total Reward: 2.5599950782927294\n",
      "Episode 94/100, Total Reward: 0.9096236574691713\n",
      "Episode 95/100, Total Reward: 5.827807779085972\n",
      "Episode 96/100, Total Reward: 13.398362708288069\n",
      "Episode 97/100, Total Reward: 14.945958452863788\n",
      "Episode 98/100, Total Reward: 2.530328413455537\n",
      "Episode 99/100, Total Reward: 8.736256646708101\n",
      "Episode 100/100, Total Reward: 28.383946772408297\n"
     ]
    },
    {
     "data": {
      "image/png": "[encoded data removed]",
      "text/plain": [
       "<Figure size 640x480 with 1 Axes>"
      ]
     },
     "metadata": {},
     "output_type": "display_data"
    }
   ],
   "source": [
    "returns = train_agent(agent, env)\n",
    "\n",
    "plt.plot(returns)\n",
    "plt.xlabel('Episode')\n",
    "plt.ylabel('Total Reward')\n",
    "plt.title('Training Progress')\n",
    "plt.show()"
   ]
  },
  {
   "cell_type": "code",
   "execution_count": 10,
   "id": "b32520b0",
   "metadata": {},
   "outputs": [
    {
     "ename": "AttributeError",
     "evalue": "'QLearningAgent' object has no attribute 'epsilon_greedy_policy'",
     "output_type": "error",
     "traceback": [
      "\u001b[1;31m---------------------------------------------------------------------------\u001b[0m",
      "\u001b[1;31mAttributeError\u001b[0m                            Traceback (most recent call last)",
      "Cell \u001b[1;32mIn[10], line 1\u001b[0m\n\u001b[1;32m----> 1\u001b[0m visualize_agent(agent, env)\n",
      "Cell \u001b[1;32mIn[9], line 10\u001b[0m, in \u001b[0;36mvisualize_agent\u001b[1;34m(agent, env, n_episodes, max_steps)\u001b[0m\n\u001b[0;32m      8\u001b[0m \u001b[38;5;28;01mfor\u001b[39;00m step \u001b[38;5;129;01min\u001b[39;00m \u001b[38;5;28mrange\u001b[39m(max_steps):\n\u001b[0;32m      9\u001b[0m     env\u001b[38;5;241m.\u001b[39mrender()  \u001b[38;5;66;03m# Render the environment to visualize the agent's actions\u001b[39;00m\n\u001b[1;32m---> 10\u001b[0m     action \u001b[38;5;241m=\u001b[39m agent\u001b[38;5;241m.\u001b[39mepsilon_greedy_policy(state, epsilon\u001b[38;5;241m=\u001b[39m\u001b[38;5;241m0\u001b[39m)  \u001b[38;5;66;03m# Use greedy policy for visualization\u001b[39;00m\n\u001b[0;32m     11\u001b[0m     next_obs, reward, done, truncated, info \u001b[38;5;241m=\u001b[39m env\u001b[38;5;241m.\u001b[39mstep(action)\n\u001b[0;32m     12\u001b[0m     state \u001b[38;5;241m=\u001b[39m agent\u001b[38;5;241m.\u001b[39mdiscretize_state(next_obs)\n",
      "\u001b[1;31mAttributeError\u001b[0m: 'QLearningAgent' object has no attribute 'epsilon_greedy_policy'"
     ]
    }
   ],
   "source": [
    "visualize_agent(agent, env)"
   ]
  },
  {
   "cell_type": "markdown",
   "id": "7c375d64",
   "metadata": {},
   "source": [
    "### Solution 2\n",
    "Environment Observation Type: \\\n",
    "Agent Action Type: \\\n",
    "Algorithm Used: "
   ]
  },
  {
   "cell_type": "markdown",
   "id": "a1653ba8",
   "metadata": {},
   "source": [
    "### Solution 2\n",
    "Environment Observation Type: \\\n",
    "Agent Action Type: \\\n",
    "Algorithm Used: "
   ]
  },
  {
   "cell_type": "markdown",
   "id": "7fc84f81",
   "metadata": {},
   "source": [
    "## Solution 3\n",
    "Environment Observation Type: \\\n",
    "Agent Action Type: \\\n",
    "Algorithm Used: "
   ]
  },
  {
   "cell_type": "markdown",
   "id": "d66f0daf",
   "metadata": {},
   "source": [
    "## Solution 4\n",
    "Environment Observation Type: \\\n",
    "Agent Action Type: \\\n",
    "Algorithm Used: "
   ]
  },
  {
   "cell_type": "code",
   "execution_count": null,
   "id": "45811a3b",
   "metadata": {},
   "outputs": [],
   "source": []
  },
  {
   "cell_type": "code",
   "execution_count": null,
   "id": "428b3be2",
   "metadata": {},
   "outputs": [],
   "source": []
  }
 ],
 "metadata": {
  "kernelspec": {
   "display_name": "Python 3 (ipykernel)",
   "language": "python",
   "name": "python3"
  },
  "language_info": {
   "codemirror_mode": {
    "name": "ipython",
    "version": 3
   },
   "file_extension": ".py",
   "mimetype": "text/x-python",
   "name": "python",
   "nbconvert_exporter": "python",
   "pygments_lexer": "ipython3",
   "version": "3.11.3"
  }
 },
 "nbformat": 4,
 "nbformat_minor": 5
}
