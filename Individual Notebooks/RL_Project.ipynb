{
  "cells": [
    {
      "cell_type": "markdown",
      "metadata": {
        "id": "view-in-github",
        "colab_type": "text"
      },
      "source": [
        "<a href=\"https://colab.research.google.com/github/ontenkutsenko/RL_Autonomous_Driving/blob/main/Individual%20Notebooks/RL_Project.ipynb\" target=\"_parent\"><img src=\"https://colab.research.google.com/assets/colab-badge.svg\" alt=\"Open In Colab\"/></a>"
      ]
    },
    {
      "cell_type": "markdown",
      "id": "c408d461",
      "metadata": {
        "id": "c408d461"
      },
      "source": [
        "# Reinforcement Learning Final Project\n",
        "\n",
        "Welcome to your Reinforcement Learning project! Join in groups of a maximum of 5 students on a project focused on developing an RL agent capable of solving an environment for decision-making in Autonomous Driving. The project deadline has been set to the 2nd of June.\n",
        "\n",
        "Autonomous Driving has long been considered a field in which RL algorithms excel, and this project aims to leverage the power of RL to create an intelligent agent that can solve the Farama’s foundation “highway-env” project, namely the Highway environment (refer to https://highway-env.farama.org/environments/highway/).\n",
        "\n",
        "## Project Requirements:\n",
        "\n",
        "* The environments observation’s format can vary according to our preference, namely Kinematics, Grayscale Image, Occupancy grid and Time to collision (refer to https://highway-env.farama.org/observations/). In your solutions you should use 2 of these types.\n",
        "* The agents actions can also vary, as continuous actions, discrete actions and discrete meta-actions (refer to https://highway-env.farama.org/actions/). In your solutions you should use 2 of these types.\n",
        "* As for the algorithms to use, any algorithm is valid (seen or not in class), with a minimum requirement of 3 different algorithms used.\n",
        "* Apart from the environment observation types and agent action types you must use environment’s configuration provided in the annexed notebook!\n",
        "Note: Your delivery should comprise 4 solutions to the highway environment (corresponding to the combinations of the two environment observation’s types and the two agent’s action types), in which you just need to use one algorithm for each combination (knowing that you need to use at least 3 different algorithms).\n",
        "\n",
        "\n",
        "## Project Objectives:\n",
        "\n",
        "* Train an RL agent to solve the Highway environment: The primary objective of this project is to develop an RL agent that can maximize the reward given by the highway environment (refer to https://highway-env.farama.org/rewards/), which leverages to maximize speed while minimizing crash risk!\n",
        "* Optimize decision-making using RL algorithms: Explore different RL algorithms to train the agent. Compare and analyse their effectiveness in learning and decision-making capabilities in the context of the environment.\n",
        "* Explore and expand on the reward system: Although you should evaluate your agent with the reward function provided by the environment, you could/should expand it to better train your agent.\n",
        "* Enhance interpretability and analysis: Develop methods to analyse the agent's decision-making process and provide insights into its strategic thinking. Investigate techniques to visualize the agent's evaluation of chess positions and understand its reasoning behind specific moves.\n",
        "\n",
        "\n",
        "\n",
        "### Extra Objectives:\n",
        "\n",
        "* Investigate transfer learning and generalization: Explore techniques for transfer learning to leverage knowledge acquired in related domains or from pre-training on large chess datasets. Investigate the agent's ability to generalize its knowledge.\n",
        "* Explore multi agent approaches: The environment allows you to use more than one agent per episode. Explore multi agent alternatives to improve your learning times and overall benchmarks.\n"
      ]
    },
    {
      "cell_type": "markdown",
      "id": "78aabeb2",
      "metadata": {
        "id": "78aabeb2"
      },
      "source": [
        "## Imports Required\n",
        "\n",
        "You might need to restart the kernel after installation"
      ]
    },
    {
      "cell_type": "code",
      "execution_count": 96,
      "id": "9221cf06",
      "metadata": {
        "colab": {
          "base_uri": "https://localhost:8080/"
        },
        "id": "9221cf06",
        "outputId": "4fdff11c-8f52-434a-bdb1-4db7db33c44e"
      },
      "outputs": [
        {
          "output_type": "stream",
          "name": "stdout",
          "text": [
            "Requirement already satisfied: gymnasium in /usr/local/lib/python3.10/dist-packages (0.29.1)\n",
            "Requirement already satisfied: highway-env in /usr/local/lib/python3.10/dist-packages (1.8.2)\n",
            "Requirement already satisfied: stable-baselines3[extra] in /usr/local/lib/python3.10/dist-packages (2.3.2)\n",
            "Requirement already satisfied: numpy>=1.21.0 in /usr/local/lib/python3.10/dist-packages (from gymnasium) (1.25.2)\n",
            "Requirement already satisfied: cloudpickle>=1.2.0 in /usr/local/lib/python3.10/dist-packages (from gymnasium) (2.2.1)\n",
            "Requirement already satisfied: typing-extensions>=4.3.0 in /usr/local/lib/python3.10/dist-packages (from gymnasium) (4.12.1)\n",
            "Requirement already satisfied: farama-notifications>=0.0.1 in /usr/local/lib/python3.10/dist-packages (from gymnasium) (0.0.4)\n",
            "Requirement already satisfied: pygame>=2.0.2 in /usr/local/lib/python3.10/dist-packages (from highway-env) (2.5.2)\n",
            "Requirement already satisfied: matplotlib in /usr/local/lib/python3.10/dist-packages (from highway-env) (3.7.1)\n",
            "Requirement already satisfied: pandas in /usr/local/lib/python3.10/dist-packages (from highway-env) (2.0.3)\n",
            "Requirement already satisfied: scipy in /usr/local/lib/python3.10/dist-packages (from highway-env) (1.11.4)\n",
            "Requirement already satisfied: torch>=1.13 in /usr/local/lib/python3.10/dist-packages (from stable-baselines3[extra]) (2.3.0+cu121)\n",
            "Requirement already satisfied: opencv-python in /usr/local/lib/python3.10/dist-packages (from stable-baselines3[extra]) (4.8.0.76)\n",
            "Requirement already satisfied: tensorboard>=2.9.1 in /usr/local/lib/python3.10/dist-packages (from stable-baselines3[extra]) (2.15.2)\n",
            "Requirement already satisfied: psutil in /usr/local/lib/python3.10/dist-packages (from stable-baselines3[extra]) (5.9.5)\n",
            "Requirement already satisfied: tqdm in /usr/local/lib/python3.10/dist-packages (from stable-baselines3[extra]) (4.66.4)\n",
            "Requirement already satisfied: rich in /usr/local/lib/python3.10/dist-packages (from stable-baselines3[extra]) (13.7.1)\n",
            "Requirement already satisfied: shimmy[atari]~=1.3.0 in /usr/local/lib/python3.10/dist-packages (from stable-baselines3[extra]) (1.3.0)\n",
            "Requirement already satisfied: pillow in /usr/local/lib/python3.10/dist-packages (from stable-baselines3[extra]) (9.4.0)\n",
            "Requirement already satisfied: autorom[accept-rom-license]~=0.6.1 in /usr/local/lib/python3.10/dist-packages (from stable-baselines3[extra]) (0.6.1)\n",
            "Requirement already satisfied: click in /usr/local/lib/python3.10/dist-packages (from autorom[accept-rom-license]~=0.6.1->stable-baselines3[extra]) (8.1.7)\n",
            "Requirement already satisfied: requests in /usr/local/lib/python3.10/dist-packages (from autorom[accept-rom-license]~=0.6.1->stable-baselines3[extra]) (2.31.0)\n",
            "Requirement already satisfied: AutoROM.accept-rom-license in /usr/local/lib/python3.10/dist-packages (from autorom[accept-rom-license]~=0.6.1->stable-baselines3[extra]) (0.6.1)\n",
            "Requirement already satisfied: ale-py~=0.8.1 in /usr/local/lib/python3.10/dist-packages (from shimmy[atari]~=1.3.0->stable-baselines3[extra]) (0.8.1)\n",
            "Requirement already satisfied: absl-py>=0.4 in /usr/local/lib/python3.10/dist-packages (from tensorboard>=2.9.1->stable-baselines3[extra]) (1.4.0)\n",
            "Requirement already satisfied: grpcio>=1.48.2 in /usr/local/lib/python3.10/dist-packages (from tensorboard>=2.9.1->stable-baselines3[extra]) (1.64.1)\n",
            "Requirement already satisfied: google-auth<3,>=1.6.3 in /usr/local/lib/python3.10/dist-packages (from tensorboard>=2.9.1->stable-baselines3[extra]) (2.27.0)\n",
            "Requirement already satisfied: google-auth-oauthlib<2,>=0.5 in /usr/local/lib/python3.10/dist-packages (from tensorboard>=2.9.1->stable-baselines3[extra]) (1.2.0)\n",
            "Requirement already satisfied: markdown>=2.6.8 in /usr/local/lib/python3.10/dist-packages (from tensorboard>=2.9.1->stable-baselines3[extra]) (3.6)\n",
            "Requirement already satisfied: protobuf!=4.24.0,>=3.19.6 in /usr/local/lib/python3.10/dist-packages (from tensorboard>=2.9.1->stable-baselines3[extra]) (3.20.3)\n",
            "Requirement already satisfied: setuptools>=41.0.0 in /usr/local/lib/python3.10/dist-packages (from tensorboard>=2.9.1->stable-baselines3[extra]) (67.7.2)\n",
            "Requirement already satisfied: six>1.9 in /usr/local/lib/python3.10/dist-packages (from tensorboard>=2.9.1->stable-baselines3[extra]) (1.16.0)\n",
            "Requirement already satisfied: tensorboard-data-server<0.8.0,>=0.7.0 in /usr/local/lib/python3.10/dist-packages (from tensorboard>=2.9.1->stable-baselines3[extra]) (0.7.2)\n",
            "Requirement already satisfied: werkzeug>=1.0.1 in /usr/local/lib/python3.10/dist-packages (from tensorboard>=2.9.1->stable-baselines3[extra]) (3.0.3)\n",
            "Requirement already satisfied: filelock in /usr/local/lib/python3.10/dist-packages (from torch>=1.13->stable-baselines3[extra]) (3.14.0)\n",
            "Requirement already satisfied: sympy in /usr/local/lib/python3.10/dist-packages (from torch>=1.13->stable-baselines3[extra]) (1.12.1)\n",
            "Requirement already satisfied: networkx in /usr/local/lib/python3.10/dist-packages (from torch>=1.13->stable-baselines3[extra]) (3.3)\n",
            "Requirement already satisfied: jinja2 in /usr/local/lib/python3.10/dist-packages (from torch>=1.13->stable-baselines3[extra]) (3.1.4)\n",
            "Requirement already satisfied: fsspec in /usr/local/lib/python3.10/dist-packages (from torch>=1.13->stable-baselines3[extra]) (2023.6.0)\n",
            "Requirement already satisfied: nvidia-cuda-nvrtc-cu12==12.1.105 in /usr/local/lib/python3.10/dist-packages (from torch>=1.13->stable-baselines3[extra]) (12.1.105)\n",
            "Requirement already satisfied: nvidia-cuda-runtime-cu12==12.1.105 in /usr/local/lib/python3.10/dist-packages (from torch>=1.13->stable-baselines3[extra]) (12.1.105)\n",
            "Requirement already satisfied: nvidia-cuda-cupti-cu12==12.1.105 in /usr/local/lib/python3.10/dist-packages (from torch>=1.13->stable-baselines3[extra]) (12.1.105)\n",
            "Requirement already satisfied: nvidia-cudnn-cu12==8.9.2.26 in /usr/local/lib/python3.10/dist-packages (from torch>=1.13->stable-baselines3[extra]) (8.9.2.26)\n",
            "Requirement already satisfied: nvidia-cublas-cu12==12.1.3.1 in /usr/local/lib/python3.10/dist-packages (from torch>=1.13->stable-baselines3[extra]) (12.1.3.1)\n",
            "Requirement already satisfied: nvidia-cufft-cu12==11.0.2.54 in /usr/local/lib/python3.10/dist-packages (from torch>=1.13->stable-baselines3[extra]) (11.0.2.54)\n",
            "Requirement already satisfied: nvidia-curand-cu12==10.3.2.106 in /usr/local/lib/python3.10/dist-packages (from torch>=1.13->stable-baselines3[extra]) (10.3.2.106)\n",
            "Requirement already satisfied: nvidia-cusolver-cu12==11.4.5.107 in /usr/local/lib/python3.10/dist-packages (from torch>=1.13->stable-baselines3[extra]) (11.4.5.107)\n",
            "Requirement already satisfied: nvidia-cusparse-cu12==12.1.0.106 in /usr/local/lib/python3.10/dist-packages (from torch>=1.13->stable-baselines3[extra]) (12.1.0.106)\n",
            "Requirement already satisfied: nvidia-nccl-cu12==2.20.5 in /usr/local/lib/python3.10/dist-packages (from torch>=1.13->stable-baselines3[extra]) (2.20.5)\n",
            "Requirement already satisfied: nvidia-nvtx-cu12==12.1.105 in /usr/local/lib/python3.10/dist-packages (from torch>=1.13->stable-baselines3[extra]) (12.1.105)\n",
            "Requirement already satisfied: triton==2.3.0 in /usr/local/lib/python3.10/dist-packages (from torch>=1.13->stable-baselines3[extra]) (2.3.0)\n",
            "Requirement already satisfied: nvidia-nvjitlink-cu12 in /usr/local/lib/python3.10/dist-packages (from nvidia-cusolver-cu12==11.4.5.107->torch>=1.13->stable-baselines3[extra]) (12.5.40)\n",
            "Requirement already satisfied: contourpy>=1.0.1 in /usr/local/lib/python3.10/dist-packages (from matplotlib->highway-env) (1.2.1)\n",
            "Requirement already satisfied: cycler>=0.10 in /usr/local/lib/python3.10/dist-packages (from matplotlib->highway-env) (0.12.1)\n",
            "Requirement already satisfied: fonttools>=4.22.0 in /usr/local/lib/python3.10/dist-packages (from matplotlib->highway-env) (4.53.0)\n",
            "Requirement already satisfied: kiwisolver>=1.0.1 in /usr/local/lib/python3.10/dist-packages (from matplotlib->highway-env) (1.4.5)\n",
            "Requirement already satisfied: packaging>=20.0 in /usr/local/lib/python3.10/dist-packages (from matplotlib->highway-env) (24.0)\n",
            "Requirement already satisfied: pyparsing>=2.3.1 in /usr/local/lib/python3.10/dist-packages (from matplotlib->highway-env) (3.1.2)\n",
            "Requirement already satisfied: python-dateutil>=2.7 in /usr/local/lib/python3.10/dist-packages (from matplotlib->highway-env) (2.8.2)\n",
            "Requirement already satisfied: pytz>=2020.1 in /usr/local/lib/python3.10/dist-packages (from pandas->highway-env) (2023.4)\n",
            "Requirement already satisfied: tzdata>=2022.1 in /usr/local/lib/python3.10/dist-packages (from pandas->highway-env) (2024.1)\n",
            "Requirement already satisfied: markdown-it-py>=2.2.0 in /usr/local/lib/python3.10/dist-packages (from rich->stable-baselines3[extra]) (3.0.0)\n",
            "Requirement already satisfied: pygments<3.0.0,>=2.13.0 in /usr/local/lib/python3.10/dist-packages (from rich->stable-baselines3[extra]) (2.16.1)\n",
            "Requirement already satisfied: importlib-resources in /usr/local/lib/python3.10/dist-packages (from ale-py~=0.8.1->shimmy[atari]~=1.3.0->stable-baselines3[extra]) (6.4.0)\n",
            "Requirement already satisfied: cachetools<6.0,>=2.0.0 in /usr/local/lib/python3.10/dist-packages (from google-auth<3,>=1.6.3->tensorboard>=2.9.1->stable-baselines3[extra]) (5.3.3)\n",
            "Requirement already satisfied: pyasn1-modules>=0.2.1 in /usr/local/lib/python3.10/dist-packages (from google-auth<3,>=1.6.3->tensorboard>=2.9.1->stable-baselines3[extra]) (0.4.0)\n",
            "Requirement already satisfied: rsa<5,>=3.1.4 in /usr/local/lib/python3.10/dist-packages (from google-auth<3,>=1.6.3->tensorboard>=2.9.1->stable-baselines3[extra]) (4.9)\n",
            "Requirement already satisfied: requests-oauthlib>=0.7.0 in /usr/local/lib/python3.10/dist-packages (from google-auth-oauthlib<2,>=0.5->tensorboard>=2.9.1->stable-baselines3[extra]) (1.3.1)\n",
            "Requirement already satisfied: mdurl~=0.1 in /usr/local/lib/python3.10/dist-packages (from markdown-it-py>=2.2.0->rich->stable-baselines3[extra]) (0.1.2)\n",
            "Requirement already satisfied: charset-normalizer<4,>=2 in /usr/local/lib/python3.10/dist-packages (from requests->autorom[accept-rom-license]~=0.6.1->stable-baselines3[extra]) (3.3.2)\n",
            "Requirement already satisfied: idna<4,>=2.5 in /usr/local/lib/python3.10/dist-packages (from requests->autorom[accept-rom-license]~=0.6.1->stable-baselines3[extra]) (3.7)\n",
            "Requirement already satisfied: urllib3<3,>=1.21.1 in /usr/local/lib/python3.10/dist-packages (from requests->autorom[accept-rom-license]~=0.6.1->stable-baselines3[extra]) (2.0.7)\n",
            "Requirement already satisfied: certifi>=2017.4.17 in /usr/local/lib/python3.10/dist-packages (from requests->autorom[accept-rom-license]~=0.6.1->stable-baselines3[extra]) (2024.6.2)\n",
            "Requirement already satisfied: MarkupSafe>=2.1.1 in /usr/local/lib/python3.10/dist-packages (from werkzeug>=1.0.1->tensorboard>=2.9.1->stable-baselines3[extra]) (2.1.5)\n",
            "Requirement already satisfied: mpmath<1.4.0,>=1.1.0 in /usr/local/lib/python3.10/dist-packages (from sympy->torch>=1.13->stable-baselines3[extra]) (1.3.0)\n",
            "Requirement already satisfied: pyasn1<0.7.0,>=0.4.6 in /usr/local/lib/python3.10/dist-packages (from pyasn1-modules>=0.2.1->google-auth<3,>=1.6.3->tensorboard>=2.9.1->stable-baselines3[extra]) (0.6.0)\n",
            "Requirement already satisfied: oauthlib>=3.0.0 in /usr/local/lib/python3.10/dist-packages (from requests-oauthlib>=0.7.0->google-auth-oauthlib<2,>=0.5->tensorboard>=2.9.1->stable-baselines3[extra]) (3.2.2)\n"
          ]
        }
      ],
      "source": [
        "!pip install gymnasium highway-env stable-baselines3[extra]"
      ]
    },
    {
      "cell_type": "code",
      "execution_count": 97,
      "id": "a0b431af",
      "metadata": {
        "id": "a0b431af"
      },
      "outputs": [],
      "source": [
        "import gymnasium as gym\n",
        "\n",
        "import time\n",
        "import numpy as np\n",
        "import matplotlib.pyplot as plt\n",
        "from collections import defaultdict\n",
        "from tqdm.notebook import tqdm\n",
        "import itertools\n",
        "import pickle\n",
        "from stable_baselines3 import DQN\n",
        "#from stable_baselines3.common.envs import DummyVecEnv\n",
        "from gymnasium.spaces import Discrete, Box\n",
        "from stable_baselines3 import A2C\n",
        "import torch\n",
        "from stable_baselines3.common.callbacks import BaseCallback"
      ]
    },
    {
      "cell_type": "markdown",
      "id": "9f15ebae",
      "metadata": {
        "id": "9f15ebae"
      },
      "source": [
        "## Environment Configuration\n",
        "\n",
        "Apart from the environment observation types and agent action types you must use some of the environment’s configurations provided bellow!"
      ]
    },
    {
      "cell_type": "code",
      "execution_count": null,
      "id": "ee4117ac",
      "metadata": {
        "id": "ee4117ac",
        "outputId": "1bc7fdc7-8d48-4ecb-ff1a-81fbabc5b33d"
      },
      "outputs": [
        {
          "data": {
            "text/plain": [
              "' configuration = {\\n\\n    # Parametrization bellow cannot be changed\\n    \"lanes_count\": 10, # The environment must always have 10 lanes\\n    \"vehicles_count\": 50, # The environment must always have 50 other vehicles\\n    \"duration\": 120,  # [s] The environment must terminate never before 120 seconds\\n    \"other_vehicles_type\": \"highway_env.vehicle.behavior.IDMVehicle\", # This is the policy of the other vehicles\\n    \"initial_spacing\": 2, # Initial spacing between vehicles needs to be at most 2\\n\\n    # Refer to refer to https://highway-env.farama.org/observations/ to change observation space type\\n    \"observation\": {\\n        \"type\": \"Kinematics\"\\n    },\\n\\n    # Refer to refer to https://highway-env.farama.org/actions/ to change action space type\\n    \"action\": {\\n        \"type\": \"DiscreteMetaAction\",\\n    },\\n\\n    # Parameterization bellow can be changed (as it refers mostly to the reward system)\\n    \"collision_reward\": -1,  # The reward received when colliding with a vehicle. (Can be changed)\\n    \"reward_speed_range\": [20, 30],  # [m/s] The reward for high speed is mapped linearly from this range to [0, HighwayEnv.HIGH_SPEED_REWARD]. (Can be changed)\\n    \"simulation_frequency\": 15,  # [Hz] (Can be changed)\\n    \"policy_frequency\": 1,  # [Hz] (Can be changed)\\n    \\n    # Parameters defined bellow are purely for visualiztion purposes! You can alter them as you please\\n    \"screen_width\": 800,  # [px]\\n    \"screen_height\": 600,  # [px]\\n    \"centering_position\": [0.5, 0.5],\\n    \"scaling\": 5,\\n    \"show_trajectories\": False,\\n    \"render_agent\": True,\\n    \"offscreen_rendering\": False\\n} '"
            ]
          },
          "execution_count": 2,
          "metadata": {},
          "output_type": "execute_result"
        }
      ],
      "source": [
        "\"\"\" configuration = {\n",
        "\n",
        "    # Parametrization bellow cannot be changed\n",
        "    \"lanes_count\": 10, # The environment must always have 10 lanes\n",
        "    \"vehicles_count\": 50, # The environment must always have 50 other vehicles\n",
        "    \"duration\": 120,  # [s] The environment must terminate never before 120 seconds\n",
        "    \"other_vehicles_type\": \"highway_env.vehicle.behavior.IDMVehicle\", # This is the policy of the other vehicles\n",
        "    \"initial_spacing\": 2, # Initial spacing between vehicles needs to be at most 2\n",
        "\n",
        "    # Refer to refer to https://highway-env.farama.org/observations/ to change observation space type\n",
        "    \"observation\": {\n",
        "        \"type\": \"Kinematics\"\n",
        "    },\n",
        "\n",
        "    # Refer to refer to https://highway-env.farama.org/actions/ to change action space type\n",
        "    \"action\": {\n",
        "        \"type\": \"DiscreteMetaAction\",\n",
        "    },\n",
        "\n",
        "    # Parameterization bellow can be changed (as it refers mostly to the reward system)\n",
        "    \"collision_reward\": -1,  # The reward received when colliding with a vehicle. (Can be changed)\n",
        "    \"reward_speed_range\": [20, 30],  # [m/s] The reward for high speed is mapped linearly from this range to [0, HighwayEnv.HIGH_SPEED_REWARD]. (Can be changed)\n",
        "    \"simulation_frequency\": 15,  # [Hz] (Can be changed)\n",
        "    \"policy_frequency\": 1,  # [Hz] (Can be changed)\n",
        "\n",
        "    # Parameters defined bellow are purely for visualiztion purposes! You can alter them as you please\n",
        "    \"screen_width\": 800,  # [px]\n",
        "    \"screen_height\": 600,  # [px]\n",
        "    \"centering_position\": [0.5, 0.5],\n",
        "    \"scaling\": 5,\n",
        "    \"show_trajectories\": False,\n",
        "    \"render_agent\": True,\n",
        "    \"offscreen_rendering\": False\n",
        "} \"\"\""
      ]
    },
    {
      "cell_type": "markdown",
      "id": "c52431cb",
      "metadata": {
        "id": "c52431cb"
      },
      "source": [
        "## Example Solution\n",
        "### Solution 0\n",
        "Environment Observation Type: **Kinematics** \\\n",
        "Agent Action Type: **DiscreteMetaAction** \\\n",
        "Algorithm Used: **Random**\n",
        "\n",
        "Example of the environment's usage using a random policy."
      ]
    },
    {
      "cell_type": "code",
      "execution_count": null,
      "id": "196cb827",
      "metadata": {
        "id": "196cb827",
        "outputId": "6895e0de-9b67-4993-fb6b-e5e7bb31f0db"
      },
      "outputs": [
        {
          "data": {
            "text/plain": [
              "\" env = env = gym.make('highway-v0', render_mode='human', config=configuration)\\n\\nobs, info = env.reset(seed=42)\\ndone = truncated = False\\n\\nReturn = 0\\nn_steps = 1\\nEpisode = 0\\nwhile not (done or truncated):\\n  # Dispatch the observations to the model to get the tuple of actions\\n  action = env.action_space.sample()\\n  # Execute the actions\\n  next_obs, reward, done, truncated, info = env.step(action)\\n  Return+=reward\\n\\n  print('Episode: {}, Step: {}, Return: {}'.format(Episode, n_steps, round(Return,2)))\\n  n_steps+=1\\nenv.close() \""
            ]
          },
          "execution_count": 3,
          "metadata": {},
          "output_type": "execute_result"
        }
      ],
      "source": [
        "\"\"\" env = env = gym.make('highway-v0', render_mode='human', config=configuration)\n",
        "\n",
        "obs, info = env.reset(seed=42)\n",
        "done = truncated = False\n",
        "\n",
        "Return = 0\n",
        "n_steps = 1\n",
        "Episode = 0\n",
        "while not (done or truncated):\n",
        "  # Dispatch the observations to the model to get the tuple of actions\n",
        "  action = env.action_space.sample()\n",
        "  # Execute the actions\n",
        "  next_obs, reward, done, truncated, info = env.step(action)\n",
        "  Return+=reward\n",
        "\n",
        "  print('Episode: {}, Step: {}, Return: {}'.format(Episode, n_steps, round(Return,2)))\n",
        "  n_steps+=1\n",
        "env.close() \"\"\""
      ]
    },
    {
      "cell_type": "markdown",
      "id": "b653a88d",
      "metadata": {
        "id": "b653a88d"
      },
      "source": [
        "### Solution 1\n",
        "Environment Observation Type: OccupanyGrid\\\n",
        "Agent Action Type: Discrete Meta Actions\\\n",
        "Algorithm Used: Q-Table"
      ]
    },
    {
      "cell_type": "code",
      "execution_count": null,
      "id": "2fbd4243",
      "metadata": {
        "colab": {
          "base_uri": "https://localhost:8080/"
        },
        "id": "2fbd4243",
        "outputId": "bcec78db-1ea3-42a6-d6f9-d8326a44033a"
      },
      "outputs": [
        {
          "output_type": "stream",
          "name": "stderr",
          "text": [
            "/usr/local/lib/python3.10/dist-packages/ipykernel/ipkernel.py:283: DeprecationWarning: `should_run_async` will not call `transform_cell` automatically in the future. Please pass the result to `transformed_cell` argument and any exception that happen during thetransform in `preprocessing_exc_tuple` in IPython 7.17 and above.\n",
            "  and should_run_async(code)\n"
          ]
        }
      ],
      "source": [
        "def create_env(config):\n",
        "    env = gym.make('highway-v0', config=config, render_mode='human')\n",
        "    return env"
      ]
    },
    {
      "cell_type": "code",
      "execution_count": null,
      "id": "2a9fdf0f",
      "metadata": {
        "id": "2a9fdf0f"
      },
      "outputs": [],
      "source": [
        "occgrid_configuration = {\n",
        "    \"lanes_count\": 10,\n",
        "    \"vehicles_count\": 50,\n",
        "    \"duration\": 120,\n",
        "    \"other_vehicles_type\": \"highway_env.vehicle.behavior.IDMVehicle\",\n",
        "    \"initial_spacing\": 2,\n",
        "    \"observation\": {\n",
        "        \"type\": \"OccupancyGrid\",\n",
        "        \"features\": [\"presence\"],\n",
        "        \"grid_size\": [[-47.5, 47.5], [-47.5, 47.5]],\n",
        "        \"grid_step\": [5, 5],\n",
        "        \"absolute\": False,\n",
        "    },\n",
        "    \"action\": {\"type\": \"DiscreteMetaAction\"},\n",
        "    \"collision_reward\": -10,\n",
        "    \"reward_speed_range\": [20, 30],\n",
        "    \"simulation_frequency\": 15,\n",
        "    \"policy_frequency\": 1,\n",
        "    \"screen_width\": 800,\n",
        "    \"screen_height\": 600,\n",
        "    \"centering_position\": [0.5, 0.5],\n",
        "    \"scaling\": 5,\n",
        "    \"show_trajectories\": True,\n",
        "    \"render_agent\": True,\n",
        "    \"offscreen_rendering\": False,\n",
        "}\n",
        "\n",
        "env = gym.make('highway-v0', config=occgrid_configuration, render_mode='human')\n"
      ]
    },
    {
      "cell_type": "code",
      "execution_count": null,
      "id": "432c6dfa",
      "metadata": {
        "id": "432c6dfa"
      },
      "outputs": [],
      "source": [
        "class QLearningAgent:\n",
        "    def __init__(self, action_space, learning_rate=0.1, discount_factor=0.99, exploration_rate=1.0, exploration_decay=0.99):\n",
        "        self.action_space = action_space\n",
        "        self.learning_rate = learning_rate\n",
        "        self.discount_factor = discount_factor\n",
        "        self.exploration_rate = exploration_rate\n",
        "        self.exploration_decay = exploration_decay\n",
        "        self.q_table = defaultdict(lambda: np.zeros(action_space.n))\n",
        "\n",
        "    def discretize_state(self, obs, slice_pos):\n",
        "        # Hash the observation (Occupancy Grid) into a unique and consistent hashable state\n",
        "        sliced_obs = obs[0][slice_pos - 1:-(slice_pos - 1), slice_pos:]\n",
        "        return hash(sliced_obs.tostring())\n",
        "\n",
        "    def choose_action(self, state, epsilon=None):\n",
        "        if epsilon is None:\n",
        "            epsilon = self.exploration_rate\n",
        "        if np.random.rand() < epsilon:\n",
        "            return self.action_space.sample()\n",
        "        else:\n",
        "            return np.argmax(self.q_table[state])\n",
        "\n",
        "    def update_q_value(self, state, action, reward, next_state, done):\n",
        "        best_next_action = np.argmax(self.q_table[next_state])\n",
        "        td_target = reward + self.discount_factor * self.q_table[next_state][best_next_action] * (1 - done)\n",
        "        td_delta = td_target - self.q_table[state][action]\n",
        "        self.q_table[state][action] += self.learning_rate * td_delta\n",
        "        if done:\n",
        "            self.exploration_rate *= self.exploration_decay\n",
        "\n",
        "    def step(self, env, slice_pos, action, current_q_value, discrete_state, alpha, gamma, epsilon):\n",
        "        next_state, r, truncated, done, _ = env.step(action)\n",
        "        Done = done or truncated\n",
        "        if Done:\n",
        "            return 0, 0, 0, r, Done\n",
        "        next_discrete_state = self.discretize_state(next_state, slice_pos)\n",
        "        next_action = self.choose_action(next_discrete_state, epsilon)\n",
        "        next_q_value = self.q_table[next_discrete_state][next_action]\n",
        "        max_future_q_value = np.max(self.q_table[next_discrete_state])\n",
        "        new_q_value = current_q_value + alpha * (r + gamma * max_future_q_value - current_q_value)\n",
        "        self.q_table[discrete_state][action] = new_q_value\n",
        "        return next_action, new_q_value, next_discrete_state, r, Done\n"
      ]
    },
    {
      "cell_type": "code",
      "execution_count": null,
      "id": "2d1789da",
      "metadata": {
        "id": "2d1789da"
      },
      "outputs": [],
      "source": [
        "def train_agent(agent, env, slice_pos, num_iterations=100, alpha=0.85, gamma=0.9):\n",
        "    returns = []\n",
        "    EPSILON = 0.8\n",
        "    EPSILON_DECAY = EPSILON / num_iterations\n",
        "\n",
        "    for i in tqdm(range(num_iterations)):\n",
        "        discrete_state = agent.discretize_state(env.reset(seed=np.random.randint(100))[0], slice_pos)\n",
        "        action = agent.choose_action(discrete_state, EPSILON)\n",
        "        current_q_value = agent.q_table[discrete_state][action]\n",
        "        total_reward = 0\n",
        "        done = False\n",
        "\n",
        "        while not done:\n",
        "            action, current_q_value, discrete_state, reward, done = agent.step(env, slice_pos, action, current_q_value, discrete_state, alpha, gamma, EPSILON)\n",
        "            total_reward += reward\n",
        "\n",
        "        returns.append(total_reward)\n",
        "        EPSILON -= EPSILON_DECAY\n",
        "\n",
        "    return returns\n"
      ]
    },
    {
      "cell_type": "code",
      "execution_count": null,
      "id": "74f4f26d",
      "metadata": {
        "id": "74f4f26d"
      },
      "outputs": [],
      "source": [
        "def visualize_agent(agent, env, slice_pos):\n",
        "    EPSILON = 0\n",
        "    obs, info = env.reset(seed=np.random.randint(100))\n",
        "    discrete_state = agent.discretize_state(obs, slice_pos)\n",
        "    total_reward = 0\n",
        "    done = False\n",
        "\n",
        "    while not done:\n",
        "        env.render()\n",
        "        action = agent.choose_action(discrete_state, epsilon=EPSILON)\n",
        "        next_obs, reward, truncated, done, _ = env.step(action)\n",
        "        discrete_state = agent.discretize_state(next_obs, slice_pos)\n",
        "        total_reward += reward\n",
        "\n",
        "    env.close()\n",
        "    return total_reward\n"
      ]
    },
    {
      "cell_type": "code",
      "execution_count": null,
      "id": "feddb60c",
      "metadata": {
        "colab": {
          "referenced_widgets": [
            "afc7844c49004d90a46a50b3804d782d"
          ]
        },
        "id": "feddb60c",
        "outputId": "12f001d2-8f6d-4ff3-eeee-814c112ae88c"
      },
      "outputs": [
        {
          "data": {
            "application/vnd.jupyter.widget-view+json": {
              "model_id": "afc7844c49004d90a46a50b3804d782d",
              "version_major": 2,
              "version_minor": 0
            },
            "text/plain": [
              "  0%|          | 0/100 [00:00<?, ?it/s]"
            ]
          },
          "metadata": {},
          "output_type": "display_data"
        },
        {
          "name": "stderr",
          "output_type": "stream",
          "text": [
            "C:\\Users\\laech\\AppData\\Local\\Temp\\ipykernel_13940\\1404084040.py:13: DeprecationWarning: tostring() is deprecated. Use tobytes() instead.\n",
            "  return hash(sliced_obs.tostring())\n"
          ]
        },
        {
          "data": {
            "image/png": "[encoded data removed]",
            "text/plain": [
              "<Figure size 640x480 with 1 Axes>"
            ]
          },
          "metadata": {},
          "output_type": "display_data"
        }
      ],
      "source": [
        "# Instantiate the agent\n",
        "agent = QLearningAgent(env.action_space)\n",
        "\n",
        "# Training\n",
        "slice_pos = 4  # Adjust as needed based on the grid size and features\n",
        "returns = train_agent(agent, env, slice_pos, num_iterations=100, alpha=0.1, gamma=0.9)\n",
        "\n",
        "# Plotting the training progress\n",
        "plt.plot(returns)\n",
        "plt.xlabel('Episode')\n",
        "plt.ylabel('Total Reward')\n",
        "plt.title('Training Progress')\n",
        "plt.show()"
      ]
    },
    {
      "cell_type": "code",
      "execution_count": null,
      "id": "fde63025",
      "metadata": {
        "id": "fde63025",
        "outputId": "7f50f282-d4d5-4e73-8ea6-2fa53ad564fb"
      },
      "outputs": [
        {
          "name": "stderr",
          "output_type": "stream",
          "text": [
            "C:\\Users\\laech\\AppData\\Local\\Temp\\ipykernel_13940\\1404084040.py:13: DeprecationWarning: tostring() is deprecated. Use tobytes() instead.\n",
            "  return hash(sliced_obs.tostring())\n",
            "c:\\Anaconda\\Lib\\site-packages\\highway_env\\envs\\common\\abstract.py:276: UserWarning: \u001b[33mWARN: You are calling render method without specifying any render mode. You can specify the render_mode at initialization, e.g. gym.make(\"highway-v0\", render_mode=\"rgb_array\")\u001b[0m\n",
            "  gym.logger.warn(\n"
          ]
        },
        {
          "name": "stdout",
          "output_type": "stream",
          "text": [
            "Total Reward during Visualization: 27.21883348399472\n"
          ]
        }
      ],
      "source": [
        "# Visualization\n",
        "total_reward = visualize_agent(agent, env, slice_pos)\n",
        "print(f'Total Reward during Visualization: {total_reward}')"
      ]
    },
    {
      "cell_type": "code",
      "execution_count": null,
      "id": "a382b056",
      "metadata": {
        "id": "a382b056"
      },
      "outputs": [],
      "source": [
        "def save_q_table(agent, filename):\n",
        "    with open(filename, 'wb') as f:\n",
        "        pickle.dump(dict(agent.q_table), f)\n",
        "    print(f\"Q-table saved to {filename}\")\n",
        "\n",
        "def load_q_table(agent, filename):\n",
        "    with open(filename, 'rb') as f:\n",
        "        q_table = pickle.load(f)\n",
        "    agent.q_table = defaultdict(lambda: np.zeros(agent.action_space.n), q_table)\n",
        "    print(f\"Q-table loaded from {filename}\")"
      ]
    },
    {
      "cell_type": "code",
      "execution_count": null,
      "id": "f47cb148",
      "metadata": {
        "id": "f47cb148"
      },
      "outputs": [],
      "source": [
        "# save_q_table(agent, 'q_table.pkl')"
      ]
    },
    {
      "cell_type": "markdown",
      "id": "7c375d64",
      "metadata": {
        "id": "7c375d64"
      },
      "source": [
        "### Solution 2\n",
        "Environment Observation Type: Kinematics (Discretized)\\\n",
        "Agent Action Type: Discrete Meta Actions\\\n",
        "Algorithm Used: SARSA"
      ]
    },
    {
      "cell_type": "code",
      "execution_count": null,
      "id": "d331db62",
      "metadata": {
        "id": "d331db62"
      },
      "outputs": [],
      "source": [
        "SARSA_configuration = {\n",
        "    \"lanes_count\": 10,\n",
        "    \"vehicles_count\": 50,\n",
        "    \"duration\": 120,\n",
        "    \"other_vehicles_type\": \"highway_env.vehicle.behavior.IDMVehicle\",\n",
        "    \"initial_spacing\": 2,\n",
        "    \"observation\": {\n",
        "        \"type\": \"Kinematics\",\n",
        "        \"features\": [\"x\", \"y\", \"vx\", \"vy\"],\n",
        "    },\n",
        "    \"action\": {\"type\": \"DiscreteMetaAction\"},\n",
        "    \"collision_reward\": -10,\n",
        "    \"reward_speed_range\": [20, 30],\n",
        "    \"simulation_frequency\": 15,\n",
        "    \"policy_frequency\": 1,\n",
        "    \"screen_width\": 800,\n",
        "    \"screen_height\": 600,\n",
        "    \"centering_position\": [0.5, 0.5],\n",
        "    \"scaling\": 5,\n",
        "    \"show_trajectories\": True,\n",
        "    \"render_agent\": True,\n",
        "    \"offscreen_rendering\": False,\n",
        "}\n",
        "\n",
        "env = gym.make('highway-v0', config=SARSA_configuration, render_mode='human')"
      ]
    },
    {
      "cell_type": "code",
      "execution_count": null,
      "id": "a2bc0bac",
      "metadata": {
        "id": "a2bc0bac"
      },
      "outputs": [],
      "source": [
        "def discretize_observation(observation, bins):\n",
        "    discretized = []\n",
        "    for vehicle in observation:\n",
        "        for i, feature in enumerate(vehicle):\n",
        "            discretized.append(np.digitize(feature, bins[i]) - 1)\n",
        "    return tuple(discretized)\n",
        "\n",
        "def create_bins(num_bins, obs_low, obs_high):\n",
        "    bins = []\n",
        "    for low, high in zip(obs_low.flatten(), obs_high.flatten()):\n",
        "        bins.append(np.linspace(low, high, num_bins + 1)[1:-1])\n",
        "    return bins"
      ]
    },
    {
      "cell_type": "code",
      "execution_count": null,
      "id": "1c27eb70",
      "metadata": {
        "id": "1c27eb70"
      },
      "outputs": [],
      "source": [
        "class SARSAAgent:\n",
        "    def __init__(self, action_space, observation_space, learning_rate=0.1, discount_factor=0.99, exploration_rate=1.0, exploration_decay=0.99, num_bins=10):\n",
        "        self.action_space = action_space\n",
        "        self.learning_rate = learning_rate\n",
        "        self.discount_factor = discount_factor\n",
        "        self.exploration_rate = exploration_rate\n",
        "        self.exploration_decay = exploration_decay\n",
        "        self.q_table = defaultdict(lambda: np.zeros(action_space.n))\n",
        "        self.bins = create_bins(num_bins, observation_space.low, observation_space.high)\n",
        "\n",
        "    def discretize_state(self, obs):\n",
        "        return discretize_observation(obs, self.bins)\n",
        "\n",
        "    def choose_action(self, state, epsilon=None):\n",
        "        if epsilon is None:\n",
        "            epsilon = self.exploration_rate\n",
        "        if np.random.rand() < epsilon:\n",
        "            return self.action_space.sample()\n",
        "        else:\n",
        "            return np.argmax(self.q_table[state])\n",
        "\n",
        "    def update_q_value(self, state, action, reward, next_state, next_action, done):\n",
        "        td_target = reward + self.discount_factor * self.q_table[next_state][next_action] * (1 - done)\n",
        "        td_delta = td_target - self.q_table[state][action]\n",
        "        self.q_table[state][action] += self.learning_rate * td_delta\n",
        "        if done:\n",
        "            self.exploration_rate *= self.exploration_decay\n",
        "\n",
        "    def step(self, env, state, action, alpha, gamma, epsilon):\n",
        "        next_obs, reward, done, truncated, _ = env.step(action)\n",
        "        next_state = self.discretize_state(next_obs)\n",
        "        next_action = self.choose_action(next_state, epsilon)\n",
        "        self.update_q_value(state, action, reward, next_state, next_action, done or truncated)\n",
        "        return next_state, next_action, reward, done or truncated"
      ]
    },
    {
      "cell_type": "code",
      "execution_count": null,
      "id": "28279aef",
      "metadata": {
        "id": "28279aef"
      },
      "outputs": [],
      "source": [
        "def train_agent(agent, env, num_iterations=1000, alpha=0.85, gamma=0.9, max_steps_per_episode=200):\n",
        "    returns = []\n",
        "    EPSILON = 0.8\n",
        "    EPSILON_DECAY = EPSILON / num_iterations\n",
        "\n",
        "    for i in tqdm(range(num_iterations)):\n",
        "        obs, _ = env.reset(seed=np.random.randint(100))\n",
        "        state = agent.discretize_state(obs)\n",
        "        action = agent.choose_action(state, EPSILON)\n",
        "        total_reward = 0\n",
        "        done = False\n",
        "        steps = 0\n",
        "\n",
        "        while not done and steps < max_steps_per_episode:\n",
        "            state, action, reward, done = agent.step(env, state, action, alpha, gamma, EPSILON)\n",
        "            total_reward += reward\n",
        "            steps += 1\n",
        "\n",
        "        returns.append(total_reward)\n",
        "        EPSILON -= EPSILON_DECAY\n",
        "\n",
        "    return returns"
      ]
    },
    {
      "cell_type": "code",
      "execution_count": null,
      "id": "c08a2970",
      "metadata": {
        "id": "c08a2970"
      },
      "outputs": [],
      "source": [
        "def visualize_agent(agent, env, max_steps_per_episode=200):\n",
        "    EPSILON = 0\n",
        "    obs, _ = env.reset(seed=np.random.randint(100))\n",
        "    state = agent.discretize_state(obs)\n",
        "    total_reward = 0\n",
        "    done = False\n",
        "    steps = 0\n",
        "\n",
        "    while not done and steps < max_steps_per_episode:\n",
        "        env.render()\n",
        "        action = agent.choose_action(state, epsilon=EPSILON)\n",
        "        next_obs, reward, done, truncated, _ = env.step(action)\n",
        "        state = agent.discretize_state(next_obs)\n",
        "        total_reward += reward\n",
        "        done = done or truncated\n",
        "        steps += 1\n",
        "\n",
        "    env.close()\n",
        "    return total_reward"
      ]
    },
    {
      "cell_type": "code",
      "execution_count": null,
      "id": "8de1aadc",
      "metadata": {
        "colab": {
          "referenced_widgets": [
            "361c0d0b5e074752b724f9ff48b6964f"
          ]
        },
        "id": "8de1aadc",
        "outputId": "c4a7ccaf-587e-4826-80e9-21e836cc33a1"
      },
      "outputs": [
        {
          "name": "stderr",
          "output_type": "stream",
          "text": [
            "c:\\Anaconda\\Lib\\site-packages\\numpy\\core\\function_base.py:157: RuntimeWarning: invalid value encountered in multiply\n",
            "  y *= step\n",
            "c:\\Anaconda\\Lib\\site-packages\\numpy\\core\\function_base.py:167: RuntimeWarning: invalid value encountered in add\n",
            "  y += start\n"
          ]
        },
        {
          "data": {
            "application/vnd.jupyter.widget-view+json": {
              "model_id": "361c0d0b5e074752b724f9ff48b6964f",
              "version_major": 2,
              "version_minor": 0
            },
            "text/plain": [
              "  0%|          | 0/100 [00:00<?, ?it/s]"
            ]
          },
          "metadata": {},
          "output_type": "display_data"
        },
        {
          "ename": "KeyboardInterrupt",
          "evalue": "",
          "output_type": "error",
          "traceback": [
            "\u001b[1;31m---------------------------------------------------------------------------\u001b[0m",
            "\u001b[1;31mKeyboardInterrupt\u001b[0m                         Traceback (most recent call last)",
            "Cell \u001b[1;32mIn[12], line 6\u001b[0m\n\u001b[0;32m      3\u001b[0m sarsa_agent \u001b[38;5;241m=\u001b[39m SARSAAgent(env\u001b[38;5;241m.\u001b[39maction_space, observation_space, num_bins\u001b[38;5;241m=\u001b[39m\u001b[38;5;241m10\u001b[39m)\n\u001b[0;32m      5\u001b[0m \u001b[38;5;66;03m# Training\u001b[39;00m\n\u001b[1;32m----> 6\u001b[0m returns \u001b[38;5;241m=\u001b[39m train_agent(sarsa_agent, env, num_iterations\u001b[38;5;241m=\u001b[39m\u001b[38;5;241m100\u001b[39m, alpha\u001b[38;5;241m=\u001b[39m\u001b[38;5;241m0.1\u001b[39m, gamma\u001b[38;5;241m=\u001b[39m\u001b[38;5;241m0.9\u001b[39m, max_steps_per_episode\u001b[38;5;241m=\u001b[39m\u001b[38;5;241m200\u001b[39m)\n\u001b[0;32m      8\u001b[0m \u001b[38;5;66;03m# Plotting the training progress\u001b[39;00m\n\u001b[0;32m      9\u001b[0m plt\u001b[38;5;241m.\u001b[39mplot(returns)\n",
            "Cell \u001b[1;32mIn[10], line 15\u001b[0m, in \u001b[0;36mtrain_agent\u001b[1;34m(agent, env, num_iterations, alpha, gamma, max_steps_per_episode)\u001b[0m\n\u001b[0;32m     12\u001b[0m steps \u001b[38;5;241m=\u001b[39m \u001b[38;5;241m0\u001b[39m\n\u001b[0;32m     14\u001b[0m \u001b[38;5;28;01mwhile\u001b[39;00m \u001b[38;5;129;01mnot\u001b[39;00m done \u001b[38;5;129;01mand\u001b[39;00m steps \u001b[38;5;241m<\u001b[39m max_steps_per_episode:\n\u001b[1;32m---> 15\u001b[0m     state, action, reward, done \u001b[38;5;241m=\u001b[39m agent\u001b[38;5;241m.\u001b[39mstep(env, state, action, alpha, gamma, EPSILON)\n\u001b[0;32m     16\u001b[0m     total_reward \u001b[38;5;241m+\u001b[39m\u001b[38;5;241m=\u001b[39m reward\n\u001b[0;32m     17\u001b[0m     steps \u001b[38;5;241m+\u001b[39m\u001b[38;5;241m=\u001b[39m \u001b[38;5;241m1\u001b[39m\n",
            "Cell \u001b[1;32mIn[9], line 30\u001b[0m, in \u001b[0;36mSARSAAgent.step\u001b[1;34m(self, env, state, action, alpha, gamma, epsilon)\u001b[0m\n\u001b[0;32m     29\u001b[0m \u001b[38;5;28;01mdef\u001b[39;00m \u001b[38;5;21mstep\u001b[39m(\u001b[38;5;28mself\u001b[39m, env, state, action, alpha, gamma, epsilon):\n\u001b[1;32m---> 30\u001b[0m     next_obs, reward, done, truncated, _ \u001b[38;5;241m=\u001b[39m env\u001b[38;5;241m.\u001b[39mstep(action)\n\u001b[0;32m     31\u001b[0m     next_state \u001b[38;5;241m=\u001b[39m \u001b[38;5;28mself\u001b[39m\u001b[38;5;241m.\u001b[39mdiscretize_state(next_obs)\n\u001b[0;32m     32\u001b[0m     next_action \u001b[38;5;241m=\u001b[39m \u001b[38;5;28mself\u001b[39m\u001b[38;5;241m.\u001b[39mchoose_action(next_state, epsilon)\n",
            "File \u001b[1;32mc:\\Anaconda\\Lib\\site-packages\\gymnasium\\wrappers\\order_enforcing.py:56\u001b[0m, in \u001b[0;36mOrderEnforcing.step\u001b[1;34m(self, action)\u001b[0m\n\u001b[0;32m     54\u001b[0m \u001b[38;5;28;01mif\u001b[39;00m \u001b[38;5;129;01mnot\u001b[39;00m \u001b[38;5;28mself\u001b[39m\u001b[38;5;241m.\u001b[39m_has_reset:\n\u001b[0;32m     55\u001b[0m     \u001b[38;5;28;01mraise\u001b[39;00m ResetNeeded(\u001b[38;5;124m\"\u001b[39m\u001b[38;5;124mCannot call env.step() before calling env.reset()\u001b[39m\u001b[38;5;124m\"\u001b[39m)\n\u001b[1;32m---> 56\u001b[0m \u001b[38;5;28;01mreturn\u001b[39;00m \u001b[38;5;28mself\u001b[39m\u001b[38;5;241m.\u001b[39menv\u001b[38;5;241m.\u001b[39mstep(action)\n",
            "File \u001b[1;32mc:\\Anaconda\\Lib\\site-packages\\gymnasium\\wrappers\\env_checker.py:51\u001b[0m, in \u001b[0;36mPassiveEnvChecker.step\u001b[1;34m(self, action)\u001b[0m\n\u001b[0;32m     49\u001b[0m     \u001b[38;5;28;01mreturn\u001b[39;00m env_step_passive_checker(\u001b[38;5;28mself\u001b[39m\u001b[38;5;241m.\u001b[39menv, action)\n\u001b[0;32m     50\u001b[0m \u001b[38;5;28;01melse\u001b[39;00m:\n\u001b[1;32m---> 51\u001b[0m     \u001b[38;5;28;01mreturn\u001b[39;00m \u001b[38;5;28mself\u001b[39m\u001b[38;5;241m.\u001b[39menv\u001b[38;5;241m.\u001b[39mstep(action)\n",
            "File \u001b[1;32mc:\\Anaconda\\Lib\\site-packages\\highway_env\\envs\\common\\abstract.py:235\u001b[0m, in \u001b[0;36mAbstractEnv.step\u001b[1;34m(self, action)\u001b[0m\n\u001b[0;32m    232\u001b[0m     \u001b[38;5;28;01mraise\u001b[39;00m \u001b[38;5;167;01mNotImplementedError\u001b[39;00m(\u001b[38;5;124m\"\u001b[39m\u001b[38;5;124mThe road and vehicle must be initialized in the environment implementation\u001b[39m\u001b[38;5;124m\"\u001b[39m)\n\u001b[0;32m    234\u001b[0m \u001b[38;5;28mself\u001b[39m\u001b[38;5;241m.\u001b[39mtime \u001b[38;5;241m+\u001b[39m\u001b[38;5;241m=\u001b[39m \u001b[38;5;241m1\u001b[39m \u001b[38;5;241m/\u001b[39m \u001b[38;5;28mself\u001b[39m\u001b[38;5;241m.\u001b[39mconfig[\u001b[38;5;124m\"\u001b[39m\u001b[38;5;124mpolicy_frequency\u001b[39m\u001b[38;5;124m\"\u001b[39m]\n\u001b[1;32m--> 235\u001b[0m \u001b[38;5;28mself\u001b[39m\u001b[38;5;241m.\u001b[39m_simulate(action)\n\u001b[0;32m    237\u001b[0m obs \u001b[38;5;241m=\u001b[39m \u001b[38;5;28mself\u001b[39m\u001b[38;5;241m.\u001b[39mobservation_type\u001b[38;5;241m.\u001b[39mobserve()\n\u001b[0;32m    238\u001b[0m reward \u001b[38;5;241m=\u001b[39m \u001b[38;5;28mself\u001b[39m\u001b[38;5;241m.\u001b[39m_reward(action)\n",
            "File \u001b[1;32mc:\\Anaconda\\Lib\\site-packages\\highway_env\\envs\\common\\abstract.py:258\u001b[0m, in \u001b[0;36mAbstractEnv._simulate\u001b[1;34m(self, action)\u001b[0m\n\u001b[0;32m    255\u001b[0m     \u001b[38;5;28mself\u001b[39m\u001b[38;5;241m.\u001b[39maction_type\u001b[38;5;241m.\u001b[39mact(action)\n\u001b[0;32m    257\u001b[0m \u001b[38;5;28mself\u001b[39m\u001b[38;5;241m.\u001b[39mroad\u001b[38;5;241m.\u001b[39mact()\n\u001b[1;32m--> 258\u001b[0m \u001b[38;5;28mself\u001b[39m\u001b[38;5;241m.\u001b[39mroad\u001b[38;5;241m.\u001b[39mstep(\u001b[38;5;241m1\u001b[39m \u001b[38;5;241m/\u001b[39m \u001b[38;5;28mself\u001b[39m\u001b[38;5;241m.\u001b[39mconfig[\u001b[38;5;124m\"\u001b[39m\u001b[38;5;124msimulation_frequency\u001b[39m\u001b[38;5;124m\"\u001b[39m])\n\u001b[0;32m    259\u001b[0m \u001b[38;5;28mself\u001b[39m\u001b[38;5;241m.\u001b[39msteps \u001b[38;5;241m+\u001b[39m\u001b[38;5;241m=\u001b[39m \u001b[38;5;241m1\u001b[39m\n\u001b[0;32m    261\u001b[0m \u001b[38;5;66;03m# Automatically render intermediate simulation steps if a viewer has been launched\u001b[39;00m\n\u001b[0;32m    262\u001b[0m \u001b[38;5;66;03m# Ignored if the rendering is done offscreen\u001b[39;00m\n",
            "File \u001b[1;32mc:\\Anaconda\\Lib\\site-packages\\highway_env\\road\\road.py:333\u001b[0m, in \u001b[0;36mRoad.step\u001b[1;34m(self, dt)\u001b[0m\n\u001b[0;32m    327\u001b[0m \u001b[38;5;250m\u001b[39m\u001b[38;5;124;03m\"\"\"\u001b[39;00m\n\u001b[0;32m    328\u001b[0m \u001b[38;5;124;03mStep the dynamics of each entity on the road.\u001b[39;00m\n\u001b[0;32m    329\u001b[0m \n\u001b[0;32m    330\u001b[0m \u001b[38;5;124;03m:param dt: timestep [s]\u001b[39;00m\n\u001b[0;32m    331\u001b[0m \u001b[38;5;124;03m\"\"\"\u001b[39;00m\n\u001b[0;32m    332\u001b[0m \u001b[38;5;28;01mfor\u001b[39;00m vehicle \u001b[38;5;129;01min\u001b[39;00m \u001b[38;5;28mself\u001b[39m\u001b[38;5;241m.\u001b[39mvehicles:\n\u001b[1;32m--> 333\u001b[0m     vehicle\u001b[38;5;241m.\u001b[39mstep(dt)\n\u001b[0;32m    334\u001b[0m \u001b[38;5;28;01mfor\u001b[39;00m i, vehicle \u001b[38;5;129;01min\u001b[39;00m \u001b[38;5;28menumerate\u001b[39m(\u001b[38;5;28mself\u001b[39m\u001b[38;5;241m.\u001b[39mvehicles):\n\u001b[0;32m    335\u001b[0m     \u001b[38;5;28;01mfor\u001b[39;00m other \u001b[38;5;129;01min\u001b[39;00m \u001b[38;5;28mself\u001b[39m\u001b[38;5;241m.\u001b[39mvehicles[i\u001b[38;5;241m+\u001b[39m\u001b[38;5;241m1\u001b[39m:]:\n",
            "File \u001b[1;32mc:\\Anaconda\\Lib\\site-packages\\highway_env\\vehicle\\behavior.py:124\u001b[0m, in \u001b[0;36mIDMVehicle.step\u001b[1;34m(self, dt)\u001b[0m\n\u001b[0;32m    116\u001b[0m \u001b[38;5;250m\u001b[39m\u001b[38;5;124;03m\"\"\"\u001b[39;00m\n\u001b[0;32m    117\u001b[0m \u001b[38;5;124;03mStep the simulation.\u001b[39;00m\n\u001b[0;32m    118\u001b[0m \n\u001b[1;32m   (...)\u001b[0m\n\u001b[0;32m    121\u001b[0m \u001b[38;5;124;03m:param dt: timestep\u001b[39;00m\n\u001b[0;32m    122\u001b[0m \u001b[38;5;124;03m\"\"\"\u001b[39;00m\n\u001b[0;32m    123\u001b[0m \u001b[38;5;28mself\u001b[39m\u001b[38;5;241m.\u001b[39mtimer \u001b[38;5;241m+\u001b[39m\u001b[38;5;241m=\u001b[39m dt\n\u001b[1;32m--> 124\u001b[0m \u001b[38;5;28msuper\u001b[39m()\u001b[38;5;241m.\u001b[39mstep(dt)\n",
            "File \u001b[1;32mc:\\Anaconda\\Lib\\site-packages\\highway_env\\vehicle\\kinematics.py:133\u001b[0m, in \u001b[0;36mVehicle.step\u001b[1;34m(self, dt)\u001b[0m\n\u001b[0;32m    131\u001b[0m \u001b[38;5;28mself\u001b[39m\u001b[38;5;241m.\u001b[39mheading \u001b[38;5;241m+\u001b[39m\u001b[38;5;241m=\u001b[39m \u001b[38;5;28mself\u001b[39m\u001b[38;5;241m.\u001b[39mspeed \u001b[38;5;241m*\u001b[39m np\u001b[38;5;241m.\u001b[39msin(beta) \u001b[38;5;241m/\u001b[39m (\u001b[38;5;28mself\u001b[39m\u001b[38;5;241m.\u001b[39mLENGTH \u001b[38;5;241m/\u001b[39m \u001b[38;5;241m2\u001b[39m) \u001b[38;5;241m*\u001b[39m dt\n\u001b[0;32m    132\u001b[0m \u001b[38;5;28mself\u001b[39m\u001b[38;5;241m.\u001b[39mspeed \u001b[38;5;241m+\u001b[39m\u001b[38;5;241m=\u001b[39m \u001b[38;5;28mself\u001b[39m\u001b[38;5;241m.\u001b[39maction[\u001b[38;5;124m'\u001b[39m\u001b[38;5;124macceleration\u001b[39m\u001b[38;5;124m'\u001b[39m] \u001b[38;5;241m*\u001b[39m dt\n\u001b[1;32m--> 133\u001b[0m \u001b[38;5;28mself\u001b[39m\u001b[38;5;241m.\u001b[39mon_state_update()\n",
            "File \u001b[1;32mc:\\Anaconda\\Lib\\site-packages\\highway_env\\vehicle\\kinematics.py:151\u001b[0m, in \u001b[0;36mVehicle.on_state_update\u001b[1;34m(self)\u001b[0m\n\u001b[0;32m    149\u001b[0m \u001b[38;5;28mself\u001b[39m\u001b[38;5;241m.\u001b[39mlane \u001b[38;5;241m=\u001b[39m \u001b[38;5;28mself\u001b[39m\u001b[38;5;241m.\u001b[39mroad\u001b[38;5;241m.\u001b[39mnetwork\u001b[38;5;241m.\u001b[39mget_lane(\u001b[38;5;28mself\u001b[39m\u001b[38;5;241m.\u001b[39mlane_index)\n\u001b[0;32m    150\u001b[0m \u001b[38;5;28;01mif\u001b[39;00m \u001b[38;5;28mself\u001b[39m\u001b[38;5;241m.\u001b[39mroad\u001b[38;5;241m.\u001b[39mrecord_history:\n\u001b[1;32m--> 151\u001b[0m     \u001b[38;5;28mself\u001b[39m\u001b[38;5;241m.\u001b[39mhistory\u001b[38;5;241m.\u001b[39mappendleft(\u001b[38;5;28mself\u001b[39m\u001b[38;5;241m.\u001b[39mcreate_from(\u001b[38;5;28mself\u001b[39m))\n",
            "File \u001b[1;32mc:\\Anaconda\\Lib\\site-packages\\highway_env\\vehicle\\behavior.py:75\u001b[0m, in \u001b[0;36mIDMVehicle.create_from\u001b[1;34m(cls, vehicle)\u001b[0m\n\u001b[0;32m     65\u001b[0m \u001b[38;5;129m@classmethod\u001b[39m\n\u001b[0;32m     66\u001b[0m \u001b[38;5;28;01mdef\u001b[39;00m \u001b[38;5;21mcreate_from\u001b[39m(\u001b[38;5;28mcls\u001b[39m, vehicle: ControlledVehicle) \u001b[38;5;241m-\u001b[39m\u001b[38;5;241m>\u001b[39m \u001b[38;5;124m\"\u001b[39m\u001b[38;5;124mIDMVehicle\u001b[39m\u001b[38;5;124m\"\u001b[39m:\n\u001b[0;32m     67\u001b[0m \u001b[38;5;250m    \u001b[39m\u001b[38;5;124;03m\"\"\"\u001b[39;00m\n\u001b[0;32m     68\u001b[0m \u001b[38;5;124;03m    Create a new vehicle from an existing one.\u001b[39;00m\n\u001b[0;32m     69\u001b[0m \n\u001b[1;32m   (...)\u001b[0m\n\u001b[0;32m     73\u001b[0m \u001b[38;5;124;03m    :return: a new vehicle at the same dynamical state\u001b[39;00m\n\u001b[0;32m     74\u001b[0m \u001b[38;5;124;03m    \"\"\"\u001b[39;00m\n\u001b[1;32m---> 75\u001b[0m     v \u001b[38;5;241m=\u001b[39m \u001b[38;5;28mcls\u001b[39m(vehicle\u001b[38;5;241m.\u001b[39mroad, vehicle\u001b[38;5;241m.\u001b[39mposition, heading\u001b[38;5;241m=\u001b[39mvehicle\u001b[38;5;241m.\u001b[39mheading, speed\u001b[38;5;241m=\u001b[39mvehicle\u001b[38;5;241m.\u001b[39mspeed,\n\u001b[0;32m     76\u001b[0m             target_lane_index\u001b[38;5;241m=\u001b[39mvehicle\u001b[38;5;241m.\u001b[39mtarget_lane_index, target_speed\u001b[38;5;241m=\u001b[39mvehicle\u001b[38;5;241m.\u001b[39mtarget_speed,\n\u001b[0;32m     77\u001b[0m             route\u001b[38;5;241m=\u001b[39mvehicle\u001b[38;5;241m.\u001b[39mroute, timer\u001b[38;5;241m=\u001b[39m\u001b[38;5;28mgetattr\u001b[39m(vehicle, \u001b[38;5;124m'\u001b[39m\u001b[38;5;124mtimer\u001b[39m\u001b[38;5;124m'\u001b[39m, \u001b[38;5;28;01mNone\u001b[39;00m))\n\u001b[0;32m     78\u001b[0m     \u001b[38;5;28;01mreturn\u001b[39;00m v\n",
            "File \u001b[1;32mc:\\Anaconda\\Lib\\site-packages\\highway_env\\vehicle\\behavior.py:58\u001b[0m, in \u001b[0;36mIDMVehicle.__init__\u001b[1;34m(self, road, position, heading, speed, target_lane_index, target_speed, route, enable_lane_change, timer)\u001b[0m\n\u001b[0;32m     48\u001b[0m \u001b[38;5;28;01mdef\u001b[39;00m \u001b[38;5;21m__init__\u001b[39m(\u001b[38;5;28mself\u001b[39m,\n\u001b[0;32m     49\u001b[0m              road: Road,\n\u001b[0;32m     50\u001b[0m              position: Vector,\n\u001b[1;32m   (...)\u001b[0m\n\u001b[0;32m     56\u001b[0m              enable_lane_change: \u001b[38;5;28mbool\u001b[39m \u001b[38;5;241m=\u001b[39m \u001b[38;5;28;01mTrue\u001b[39;00m,\n\u001b[0;32m     57\u001b[0m              timer: \u001b[38;5;28mfloat\u001b[39m \u001b[38;5;241m=\u001b[39m \u001b[38;5;28;01mNone\u001b[39;00m):\n\u001b[1;32m---> 58\u001b[0m     \u001b[38;5;28msuper\u001b[39m()\u001b[38;5;241m.\u001b[39m\u001b[38;5;21m__init__\u001b[39m(road, position, heading, speed, target_lane_index, target_speed, route)\n\u001b[0;32m     59\u001b[0m     \u001b[38;5;28mself\u001b[39m\u001b[38;5;241m.\u001b[39menable_lane_change \u001b[38;5;241m=\u001b[39m enable_lane_change\n\u001b[0;32m     60\u001b[0m     \u001b[38;5;28mself\u001b[39m\u001b[38;5;241m.\u001b[39mtimer \u001b[38;5;241m=\u001b[39m timer \u001b[38;5;129;01mor\u001b[39;00m (np\u001b[38;5;241m.\u001b[39msum(\u001b[38;5;28mself\u001b[39m\u001b[38;5;241m.\u001b[39mposition)\u001b[38;5;241m*\u001b[39mnp\u001b[38;5;241m.\u001b[39mpi) \u001b[38;5;241m%\u001b[39m \u001b[38;5;28mself\u001b[39m\u001b[38;5;241m.\u001b[39mLANE_CHANGE_DELAY\n",
            "File \u001b[1;32mc:\\Anaconda\\Lib\\site-packages\\highway_env\\vehicle\\controller.py:42\u001b[0m, in \u001b[0;36mControlledVehicle.__init__\u001b[1;34m(self, road, position, heading, speed, target_lane_index, target_speed, route)\u001b[0m\n\u001b[0;32m     34\u001b[0m \u001b[38;5;28;01mdef\u001b[39;00m \u001b[38;5;21m__init__\u001b[39m(\u001b[38;5;28mself\u001b[39m,\n\u001b[0;32m     35\u001b[0m              road: Road,\n\u001b[0;32m     36\u001b[0m              position: Vector,\n\u001b[1;32m   (...)\u001b[0m\n\u001b[0;32m     40\u001b[0m              target_speed: \u001b[38;5;28mfloat\u001b[39m \u001b[38;5;241m=\u001b[39m \u001b[38;5;28;01mNone\u001b[39;00m,\n\u001b[0;32m     41\u001b[0m              route: Route \u001b[38;5;241m=\u001b[39m \u001b[38;5;28;01mNone\u001b[39;00m):\n\u001b[1;32m---> 42\u001b[0m     \u001b[38;5;28msuper\u001b[39m()\u001b[38;5;241m.\u001b[39m\u001b[38;5;21m__init__\u001b[39m(road, position, heading, speed)\n\u001b[0;32m     43\u001b[0m     \u001b[38;5;28mself\u001b[39m\u001b[38;5;241m.\u001b[39mtarget_lane_index \u001b[38;5;241m=\u001b[39m target_lane_index \u001b[38;5;129;01mor\u001b[39;00m \u001b[38;5;28mself\u001b[39m\u001b[38;5;241m.\u001b[39mlane_index\n\u001b[0;32m     44\u001b[0m     \u001b[38;5;28mself\u001b[39m\u001b[38;5;241m.\u001b[39mtarget_speed \u001b[38;5;241m=\u001b[39m target_speed \u001b[38;5;129;01mor\u001b[39;00m \u001b[38;5;28mself\u001b[39m\u001b[38;5;241m.\u001b[39mspeed\n",
            "File \u001b[1;32mc:\\Anaconda\\Lib\\site-packages\\highway_env\\vehicle\\kinematics.py:40\u001b[0m, in \u001b[0;36mVehicle.__init__\u001b[1;34m(self, road, position, heading, speed, predition_type)\u001b[0m\n\u001b[0;32m     34\u001b[0m \u001b[38;5;28;01mdef\u001b[39;00m \u001b[38;5;21m__init__\u001b[39m(\u001b[38;5;28mself\u001b[39m,\n\u001b[0;32m     35\u001b[0m              road: Road,\n\u001b[0;32m     36\u001b[0m              position: Vector,\n\u001b[0;32m     37\u001b[0m              heading: \u001b[38;5;28mfloat\u001b[39m \u001b[38;5;241m=\u001b[39m \u001b[38;5;241m0\u001b[39m,\n\u001b[0;32m     38\u001b[0m              speed: \u001b[38;5;28mfloat\u001b[39m \u001b[38;5;241m=\u001b[39m \u001b[38;5;241m0\u001b[39m,\n\u001b[0;32m     39\u001b[0m              predition_type: \u001b[38;5;28mstr\u001b[39m \u001b[38;5;241m=\u001b[39m \u001b[38;5;124m'\u001b[39m\u001b[38;5;124mconstant_steering\u001b[39m\u001b[38;5;124m'\u001b[39m):\n\u001b[1;32m---> 40\u001b[0m     \u001b[38;5;28msuper\u001b[39m()\u001b[38;5;241m.\u001b[39m\u001b[38;5;21m__init__\u001b[39m(road, position, heading, speed)\n\u001b[0;32m     41\u001b[0m     \u001b[38;5;28mself\u001b[39m\u001b[38;5;241m.\u001b[39mprediction_type \u001b[38;5;241m=\u001b[39m predition_type\n\u001b[0;32m     42\u001b[0m     \u001b[38;5;28mself\u001b[39m\u001b[38;5;241m.\u001b[39maction \u001b[38;5;241m=\u001b[39m {\u001b[38;5;124m'\u001b[39m\u001b[38;5;124msteering\u001b[39m\u001b[38;5;124m'\u001b[39m: \u001b[38;5;241m0\u001b[39m, \u001b[38;5;124m'\u001b[39m\u001b[38;5;124macceleration\u001b[39m\u001b[38;5;124m'\u001b[39m: \u001b[38;5;241m0\u001b[39m}\n",
            "File \u001b[1;32mc:\\Anaconda\\Lib\\site-packages\\highway_env\\vehicle\\objects.py:36\u001b[0m, in \u001b[0;36mRoadObject.__init__\u001b[1;34m(self, road, position, heading, speed)\u001b[0m\n\u001b[0;32m     34\u001b[0m \u001b[38;5;28mself\u001b[39m\u001b[38;5;241m.\u001b[39mheading \u001b[38;5;241m=\u001b[39m heading\n\u001b[0;32m     35\u001b[0m \u001b[38;5;28mself\u001b[39m\u001b[38;5;241m.\u001b[39mspeed \u001b[38;5;241m=\u001b[39m speed\n\u001b[1;32m---> 36\u001b[0m \u001b[38;5;28mself\u001b[39m\u001b[38;5;241m.\u001b[39mlane_index \u001b[38;5;241m=\u001b[39m \u001b[38;5;28mself\u001b[39m\u001b[38;5;241m.\u001b[39mroad\u001b[38;5;241m.\u001b[39mnetwork\u001b[38;5;241m.\u001b[39mget_closest_lane_index(\u001b[38;5;28mself\u001b[39m\u001b[38;5;241m.\u001b[39mposition, \u001b[38;5;28mself\u001b[39m\u001b[38;5;241m.\u001b[39mheading) \u001b[38;5;28;01mif\u001b[39;00m \u001b[38;5;28mself\u001b[39m\u001b[38;5;241m.\u001b[39mroad \u001b[38;5;28;01melse\u001b[39;00m np\u001b[38;5;241m.\u001b[39mnan\n\u001b[0;32m     37\u001b[0m \u001b[38;5;28mself\u001b[39m\u001b[38;5;241m.\u001b[39mlane \u001b[38;5;241m=\u001b[39m \u001b[38;5;28mself\u001b[39m\u001b[38;5;241m.\u001b[39mroad\u001b[38;5;241m.\u001b[39mnetwork\u001b[38;5;241m.\u001b[39mget_lane(\u001b[38;5;28mself\u001b[39m\u001b[38;5;241m.\u001b[39mlane_index) \u001b[38;5;28;01mif\u001b[39;00m \u001b[38;5;28mself\u001b[39m\u001b[38;5;241m.\u001b[39mroad \u001b[38;5;28;01melse\u001b[39;00m \u001b[38;5;28;01mNone\u001b[39;00m\n\u001b[0;32m     39\u001b[0m \u001b[38;5;66;03m# Enable collision with other collidables\u001b[39;00m\n",
            "File \u001b[1;32mc:\\Anaconda\\Lib\\site-packages\\highway_env\\road\\road.py:61\u001b[0m, in \u001b[0;36mRoadNetwork.get_closest_lane_index\u001b[1;34m(self, position, heading)\u001b[0m\n\u001b[0;32m     59\u001b[0m     \u001b[38;5;28;01mfor\u001b[39;00m _to, lanes \u001b[38;5;129;01min\u001b[39;00m to_dict\u001b[38;5;241m.\u001b[39mitems():\n\u001b[0;32m     60\u001b[0m         \u001b[38;5;28;01mfor\u001b[39;00m _id, l \u001b[38;5;129;01min\u001b[39;00m \u001b[38;5;28menumerate\u001b[39m(lanes):\n\u001b[1;32m---> 61\u001b[0m             distances\u001b[38;5;241m.\u001b[39mappend(l\u001b[38;5;241m.\u001b[39mdistance_with_heading(position, heading))\n\u001b[0;32m     62\u001b[0m             indexes\u001b[38;5;241m.\u001b[39mappend((_from, _to, _id))\n\u001b[0;32m     63\u001b[0m \u001b[38;5;28;01mreturn\u001b[39;00m indexes[\u001b[38;5;28mint\u001b[39m(np\u001b[38;5;241m.\u001b[39margmin(distances))]\n",
            "File \u001b[1;32mc:\\Anaconda\\Lib\\site-packages\\highway_env\\road\\lane.py:125\u001b[0m, in \u001b[0;36mAbstractLane.distance_with_heading\u001b[1;34m(self, position, heading, heading_weight)\u001b[0m\n\u001b[0;32m    123\u001b[0m \u001b[38;5;28;01mif\u001b[39;00m heading \u001b[38;5;129;01mis\u001b[39;00m \u001b[38;5;28;01mNone\u001b[39;00m:\n\u001b[0;32m    124\u001b[0m     \u001b[38;5;28;01mreturn\u001b[39;00m \u001b[38;5;28mself\u001b[39m\u001b[38;5;241m.\u001b[39mdistance(position)\n\u001b[1;32m--> 125\u001b[0m s, r \u001b[38;5;241m=\u001b[39m \u001b[38;5;28mself\u001b[39m\u001b[38;5;241m.\u001b[39mlocal_coordinates(position)\n\u001b[0;32m    126\u001b[0m angle \u001b[38;5;241m=\u001b[39m np\u001b[38;5;241m.\u001b[39mabs(\u001b[38;5;28mself\u001b[39m\u001b[38;5;241m.\u001b[39mlocal_angle(heading, s))\n\u001b[0;32m    127\u001b[0m \u001b[38;5;28;01mreturn\u001b[39;00m \u001b[38;5;28mabs\u001b[39m(r) \u001b[38;5;241m+\u001b[39m \u001b[38;5;28mmax\u001b[39m(s \u001b[38;5;241m-\u001b[39m \u001b[38;5;28mself\u001b[39m\u001b[38;5;241m.\u001b[39mlength, \u001b[38;5;241m0\u001b[39m) \u001b[38;5;241m+\u001b[39m \u001b[38;5;28mmax\u001b[39m(\u001b[38;5;241m0\u001b[39m \u001b[38;5;241m-\u001b[39m s, \u001b[38;5;241m0\u001b[39m) \u001b[38;5;241m+\u001b[39m heading_weight\u001b[38;5;241m*\u001b[39mangle\n",
            "File \u001b[1;32mc:\\Anaconda\\Lib\\site-packages\\highway_env\\road\\lane.py:190\u001b[0m, in \u001b[0;36mStraightLane.local_coordinates\u001b[1;34m(self, position)\u001b[0m\n\u001b[0;32m    188\u001b[0m delta \u001b[38;5;241m=\u001b[39m position \u001b[38;5;241m-\u001b[39m \u001b[38;5;28mself\u001b[39m\u001b[38;5;241m.\u001b[39mstart\n\u001b[0;32m    189\u001b[0m longitudinal \u001b[38;5;241m=\u001b[39m np\u001b[38;5;241m.\u001b[39mdot(delta, \u001b[38;5;28mself\u001b[39m\u001b[38;5;241m.\u001b[39mdirection)\n\u001b[1;32m--> 190\u001b[0m lateral \u001b[38;5;241m=\u001b[39m np\u001b[38;5;241m.\u001b[39mdot(delta, \u001b[38;5;28mself\u001b[39m\u001b[38;5;241m.\u001b[39mdirection_lateral)\n\u001b[0;32m    191\u001b[0m \u001b[38;5;28;01mreturn\u001b[39;00m \u001b[38;5;28mfloat\u001b[39m(longitudinal), \u001b[38;5;28mfloat\u001b[39m(lateral)\n",
            "File \u001b[1;32m<__array_function__ internals>:200\u001b[0m, in \u001b[0;36mdot\u001b[1;34m(*args, **kwargs)\u001b[0m\n",
            "\u001b[1;31mKeyboardInterrupt\u001b[0m: "
          ]
        }
      ],
      "source": [
        "# Instantiate the agent\n",
        "observation_space = env.observation_space\n",
        "sarsa_agent = SARSAAgent(env.action_space, observation_space, num_bins=10)\n",
        "\n",
        "# Training\n",
        "returns = train_agent(sarsa_agent, env, num_iterations=100, alpha=0.1, gamma=0.9, max_steps_per_episode=200)\n",
        "\n",
        "# Plotting the training progress\n",
        "plt.plot(returns)\n",
        "plt.xlabel('Episode')\n",
        "plt.ylabel('Total Reward')\n",
        "plt.title('SARSA Training Progress')\n",
        "plt.show()"
      ]
    },
    {
      "cell_type": "code",
      "execution_count": null,
      "id": "15888282",
      "metadata": {
        "id": "15888282"
      },
      "outputs": [],
      "source": [
        "total_reward = visualize_agent(sarsa_agent, env, max_steps_per_episode=200)\n",
        "print(f'Total Reward during Visualization (SARSA): {total_reward}')"
      ]
    },
    {
      "cell_type": "markdown",
      "id": "7fc84f81",
      "metadata": {
        "id": "7fc84f81"
      },
      "source": [
        "## Solution 3\n",
        "Environment Observation Type: Kinematics\\\n",
        "Agent Action Type: ContinuousActions (Discretized)\\\n",
        "Algorithm Used: DQN"
      ]
    },
    {
      "cell_type": "code",
      "execution_count": 99,
      "id": "61c7f8e8",
      "metadata": {
        "id": "61c7f8e8"
      },
      "outputs": [],
      "source": [
        "continuous_action_configuration = {\n",
        "    \"lanes_count\": 4,\n",
        "    \"vehicles_count\": 50,\n",
        "    \"duration\": 40,  # Maximum duration of each episode in seconds\n",
        "    \"other_vehicles_type\": \"highway_env.vehicle.behavior.IDMVehicle\",\n",
        "    \"initial_spacing\": 2,\n",
        "    \"observation\": {\n",
        "        \"type\": \"Kinematics\",\n",
        "        \"features\": [\"x\", \"y\", \"vx\", \"vy\"],\n",
        "    },\n",
        "    \"action\": {\n",
        "        \"type\": \"ContinuousAction\",\n",
        "        \"acceleration_range\": (-5, 5.0),\n",
        "        \"steering_range\": (-0.7853981633974483, 0.7853981633974483),\n",
        "        \"longitudinal\": True,\n",
        "        \"lateral\": True,\n",
        "        \"dynamical\": False,\n",
        "        \"clip\": True\n",
        "    },\n",
        "    \"collision_reward\": -10,\n",
        "    \"reward_speed_range\": [20, 30],\n",
        "    \"simulation_frequency\": 15,\n",
        "    \"policy_frequency\": 1,\n",
        "    \"screen_width\": 800,\n",
        "    \"screen_height\": 600,\n",
        "    \"centering_position\": [0.5, 0.5],\n",
        "    \"scaling\": 5,\n",
        "    \"show_trajectories\": True,\n",
        "    \"render_agent\": True,\n",
        "    \"offscreen_rendering\": False,\n",
        "}\n",
        "\n",
        "env = gym.make('highway-v0', config=continuous_action_configuration)"
      ]
    },
    {
      "cell_type": "code",
      "execution_count": 100,
      "id": "1f9d3572",
      "metadata": {
        "id": "1f9d3572"
      },
      "outputs": [],
      "source": [
        "# Define discrete action steps for steering and acceleration\n",
        "steering_actions = np.linspace(-0.7853981633974483, 0.7853981633974483, 5)  # 5 discrete steps for steering\n",
        "acceleration_actions = np.linspace(-5, 5, 5)  # 5 discrete steps for acceleration\n",
        "\n",
        "# Create a list of all possible discrete actions (cartesian product of steering and acceleration steps)\n",
        "discrete_actions = [(steer, accel) for steer in steering_actions for accel in acceleration_actions]\n",
        "\n",
        "# Convert the discrete action list to a numpy array for easier indexing\n",
        "discrete_actions = np.array(discrete_actions)"
      ]
    },
    {
      "cell_type": "code",
      "execution_count": 101,
      "id": "90bcacd9",
      "metadata": {
        "id": "90bcacd9"
      },
      "outputs": [],
      "source": [
        "class DiscretizedContinuousActionWrapper(gym.Env):\n",
        "    def __init__(self, env, discrete_actions):\n",
        "        self.env = env\n",
        "        self.discrete_actions = discrete_actions\n",
        "        self.action_space = Discrete(len(discrete_actions))\n",
        "        self.observation_space = env.observation_space\n",
        "\n",
        "    def step(self, action):\n",
        "        continuous_action = self.discrete_actions[action]\n",
        "        obs, reward, done, truncated, info = self.env.step(continuous_action)\n",
        "        return obs, reward, done, truncated, info\n",
        "\n",
        "    def reset(self, **kwargs):\n",
        "        return self.env.reset(**kwargs)\n",
        "\n",
        "    def render(self, mode='human'):\n",
        "        return self.env.render()\n",
        "\n",
        "    def close(self):\n",
        "        return self.env.close()\n",
        "\n",
        "    def seed(self, seed=None):\n",
        "        return self.env.seed(seed)"
      ]
    },
    {
      "cell_type": "code",
      "execution_count": 102,
      "id": "f302e07d",
      "metadata": {
        "id": "f302e07d"
      },
      "outputs": [],
      "source": [
        "env = DiscretizedContinuousActionWrapper(env, discrete_actions) # discretize space"
      ]
    },
    {
      "cell_type": "code",
      "source": [
        "env.configuration"
      ],
      "metadata": {
        "id": "zoaTJ7tYHRQG",
        "outputId": "630bbb1c-e733-44d2-80ee-36cb33dca6b6",
        "colab": {
          "base_uri": "https://localhost:8080/",
          "height": 146
        }
      },
      "id": "zoaTJ7tYHRQG",
      "execution_count": 104,
      "outputs": [
        {
          "output_type": "error",
          "ename": "AttributeError",
          "evalue": "'DiscretizedContinuousActionWrapper' object has no attribute 'configuration'",
          "traceback": [
            "\u001b[0;31m---------------------------------------------------------------------------\u001b[0m",
            "\u001b[0;31mAttributeError\u001b[0m                            Traceback (most recent call last)",
            "\u001b[0;32m<ipython-input-104-13414b80bfc0>\u001b[0m in \u001b[0;36m<cell line: 1>\u001b[0;34m()\u001b[0m\n\u001b[0;32m----> 1\u001b[0;31m \u001b[0menv\u001b[0m\u001b[0;34m.\u001b[0m\u001b[0mconfiguration\u001b[0m\u001b[0;34m\u001b[0m\u001b[0;34m\u001b[0m\u001b[0m\n\u001b[0m",
            "\u001b[0;31mAttributeError\u001b[0m: 'DiscretizedContinuousActionWrapper' object has no attribute 'configuration'"
          ]
        }
      ]
    },
    {
      "cell_type": "code",
      "execution_count": 92,
      "id": "c2ff790f",
      "metadata": {
        "colab": {
          "base_uri": "https://localhost:8080/"
        },
        "id": "c2ff790f",
        "outputId": "fbfc5779-5bd1-4a9d-f52d-2ab6fbdf8091"
      },
      "outputs": [
        {
          "output_type": "stream",
          "name": "stdout",
          "text": [
            "Using cuda device\n",
            "Wrapping the env with a `Monitor` wrapper\n",
            "Wrapping the env in a DummyVecEnv.\n"
          ]
        }
      ],
      "source": [
        "model = DQN('MlpPolicy', env, verbose=1)\n",
        "\n",
        "#model.save(\"dqn_highway\")\n",
        "\n",
        "#model = DQN.load(\"dqn_highway\", env=env)"
      ]
    },
    {
      "cell_type": "code",
      "execution_count": 93,
      "id": "0159fcfe",
      "metadata": {
        "id": "0159fcfe"
      },
      "outputs": [],
      "source": [
        "class RewardCallback(BaseCallback):\n",
        "    def __init__(self, verbose=0):\n",
        "        super(RewardCallback, self).__init__(verbose)\n",
        "        self.episode_rewards = []\n",
        "        self.current_rewards = 0\n",
        "\n",
        "    def _on_step(self) -> bool:\n",
        "        self.current_rewards += self.locals['rewards'][0]\n",
        "        if self.locals['dones'][0]:\n",
        "            self.episode_rewards.append(self.current_rewards)\n",
        "            self.current_rewards = 0\n",
        "        return True\n",
        "\n",
        "reward_callback = RewardCallback()"
      ]
    },
    {
      "cell_type": "code",
      "source": [
        "model.learn(total_timesteps=3000, callback=reward_callback)"
      ],
      "metadata": {
        "id": "5Utijyrhepgg",
        "outputId": "db7a42da-1843-4734-ccda-de711726dece",
        "colab": {
          "base_uri": "https://localhost:8080/"
        }
      },
      "id": "5Utijyrhepgg",
      "execution_count": 94,
      "outputs": [
        {
          "output_type": "stream",
          "name": "stdout",
          "text": [
            "----------------------------------\n",
            "| rollout/            |          |\n",
            "|    ep_len_mean      | 40       |\n",
            "|    ep_rew_mean      | 6.47     |\n",
            "|    exploration_rate | 0.493    |\n",
            "| time/               |          |\n",
            "|    episodes         | 4        |\n",
            "|    fps              | 1        |\n",
            "|    time_elapsed     | 95       |\n",
            "|    total_timesteps  | 160      |\n",
            "| train/              |          |\n",
            "|    learning_rate    | 0.0001   |\n",
            "|    loss             | 0.0876   |\n",
            "|    n_updates        | 14       |\n",
            "----------------------------------\n",
            "----------------------------------\n",
            "| rollout/            |          |\n",
            "|    ep_len_mean      | 40       |\n",
            "|    ep_rew_mean      | 12.3     |\n",
            "|    exploration_rate | 0.05     |\n",
            "| time/               |          |\n",
            "|    episodes         | 8        |\n",
            "|    fps              | 1        |\n",
            "|    time_elapsed     | 188      |\n",
            "|    total_timesteps  | 320      |\n",
            "| train/              |          |\n",
            "|    learning_rate    | 0.0001   |\n",
            "|    loss             | 0.216    |\n",
            "|    n_updates        | 54       |\n",
            "----------------------------------\n",
            "----------------------------------\n",
            "| rollout/            |          |\n",
            "|    ep_len_mean      | 40       |\n",
            "|    ep_rew_mean      | 14.7     |\n",
            "|    exploration_rate | 0.05     |\n",
            "| time/               |          |\n",
            "|    episodes         | 12       |\n",
            "|    fps              | 1        |\n",
            "|    time_elapsed     | 284      |\n",
            "|    total_timesteps  | 480      |\n",
            "| train/              |          |\n",
            "|    learning_rate    | 0.0001   |\n",
            "|    loss             | 0.17     |\n",
            "|    n_updates        | 94       |\n",
            "----------------------------------\n",
            "----------------------------------\n",
            "| rollout/            |          |\n",
            "|    ep_len_mean      | 40       |\n",
            "|    ep_rew_mean      | 17.3     |\n",
            "|    exploration_rate | 0.05     |\n",
            "| time/               |          |\n",
            "|    episodes         | 16       |\n",
            "|    fps              | 1        |\n",
            "|    time_elapsed     | 378      |\n",
            "|    total_timesteps  | 640      |\n",
            "| train/              |          |\n",
            "|    learning_rate    | 0.0001   |\n",
            "|    loss             | 0.103    |\n",
            "|    n_updates        | 134      |\n",
            "----------------------------------\n",
            "----------------------------------\n",
            "| rollout/            |          |\n",
            "|    ep_len_mean      | 40       |\n",
            "|    ep_rew_mean      | 19.5     |\n",
            "|    exploration_rate | 0.05     |\n",
            "| time/               |          |\n",
            "|    episodes         | 20       |\n",
            "|    fps              | 1        |\n",
            "|    time_elapsed     | 469      |\n",
            "|    total_timesteps  | 800      |\n",
            "| train/              |          |\n",
            "|    learning_rate    | 0.0001   |\n",
            "|    loss             | 0.117    |\n",
            "|    n_updates        | 174      |\n",
            "----------------------------------\n",
            "----------------------------------\n",
            "| rollout/            |          |\n",
            "|    ep_len_mean      | 40       |\n",
            "|    ep_rew_mean      | 21.1     |\n",
            "|    exploration_rate | 0.05     |\n",
            "| time/               |          |\n",
            "|    episodes         | 24       |\n",
            "|    fps              | 1        |\n",
            "|    time_elapsed     | 561      |\n",
            "|    total_timesteps  | 960      |\n",
            "| train/              |          |\n",
            "|    learning_rate    | 0.0001   |\n",
            "|    loss             | 0.132    |\n",
            "|    n_updates        | 214      |\n",
            "----------------------------------\n",
            "----------------------------------\n",
            "| rollout/            |          |\n",
            "|    ep_len_mean      | 40       |\n",
            "|    ep_rew_mean      | 21.3     |\n",
            "|    exploration_rate | 0.05     |\n",
            "| time/               |          |\n",
            "|    episodes         | 28       |\n",
            "|    fps              | 1        |\n",
            "|    time_elapsed     | 653      |\n",
            "|    total_timesteps  | 1120     |\n",
            "| train/              |          |\n",
            "|    learning_rate    | 0.0001   |\n",
            "|    loss             | 0.122    |\n",
            "|    n_updates        | 254      |\n",
            "----------------------------------\n",
            "----------------------------------\n",
            "| rollout/            |          |\n",
            "|    ep_len_mean      | 40       |\n",
            "|    ep_rew_mean      | 21.6     |\n",
            "|    exploration_rate | 0.05     |\n",
            "| time/               |          |\n",
            "|    episodes         | 32       |\n",
            "|    fps              | 1        |\n",
            "|    time_elapsed     | 744      |\n",
            "|    total_timesteps  | 1280     |\n",
            "| train/              |          |\n",
            "|    learning_rate    | 0.0001   |\n",
            "|    loss             | 0.0884   |\n",
            "|    n_updates        | 294      |\n",
            "----------------------------------\n",
            "----------------------------------\n",
            "| rollout/            |          |\n",
            "|    ep_len_mean      | 40       |\n",
            "|    ep_rew_mean      | 22       |\n",
            "|    exploration_rate | 0.05     |\n",
            "| time/               |          |\n",
            "|    episodes         | 36       |\n",
            "|    fps              | 1        |\n",
            "|    time_elapsed     | 836      |\n",
            "|    total_timesteps  | 1440     |\n",
            "| train/              |          |\n",
            "|    learning_rate    | 0.0001   |\n",
            "|    loss             | 0.0973   |\n",
            "|    n_updates        | 334      |\n",
            "----------------------------------\n",
            "----------------------------------\n",
            "| rollout/            |          |\n",
            "|    ep_len_mean      | 40       |\n",
            "|    ep_rew_mean      | 21.1     |\n",
            "|    exploration_rate | 0.05     |\n",
            "| time/               |          |\n",
            "|    episodes         | 40       |\n",
            "|    fps              | 1        |\n",
            "|    time_elapsed     | 925      |\n",
            "|    total_timesteps  | 1600     |\n",
            "| train/              |          |\n",
            "|    learning_rate    | 0.0001   |\n",
            "|    loss             | 0.0943   |\n",
            "|    n_updates        | 374      |\n",
            "----------------------------------\n",
            "----------------------------------\n",
            "| rollout/            |          |\n",
            "|    ep_len_mean      | 40       |\n",
            "|    ep_rew_mean      | 21.4     |\n",
            "|    exploration_rate | 0.05     |\n",
            "| time/               |          |\n",
            "|    episodes         | 44       |\n",
            "|    fps              | 1        |\n",
            "|    time_elapsed     | 1014     |\n",
            "|    total_timesteps  | 1760     |\n",
            "| train/              |          |\n",
            "|    learning_rate    | 0.0001   |\n",
            "|    loss             | 0.0854   |\n",
            "|    n_updates        | 414      |\n",
            "----------------------------------\n",
            "----------------------------------\n",
            "| rollout/            |          |\n",
            "|    ep_len_mean      | 40       |\n",
            "|    ep_rew_mean      | 20.6     |\n",
            "|    exploration_rate | 0.05     |\n",
            "| time/               |          |\n",
            "|    episodes         | 48       |\n",
            "|    fps              | 1        |\n",
            "|    time_elapsed     | 1103     |\n",
            "|    total_timesteps  | 1920     |\n",
            "| train/              |          |\n",
            "|    learning_rate    | 0.0001   |\n",
            "|    loss             | 0.108    |\n",
            "|    n_updates        | 454      |\n",
            "----------------------------------\n",
            "----------------------------------\n",
            "| rollout/            |          |\n",
            "|    ep_len_mean      | 40       |\n",
            "|    ep_rew_mean      | 20.5     |\n",
            "|    exploration_rate | 0.05     |\n",
            "| time/               |          |\n",
            "|    episodes         | 52       |\n",
            "|    fps              | 1        |\n",
            "|    time_elapsed     | 1191     |\n",
            "|    total_timesteps  | 2080     |\n",
            "| train/              |          |\n",
            "|    learning_rate    | 0.0001   |\n",
            "|    loss             | 0.12     |\n",
            "|    n_updates        | 494      |\n",
            "----------------------------------\n",
            "----------------------------------\n",
            "| rollout/            |          |\n",
            "|    ep_len_mean      | 40       |\n",
            "|    ep_rew_mean      | 20       |\n",
            "|    exploration_rate | 0.05     |\n",
            "| time/               |          |\n",
            "|    episodes         | 56       |\n",
            "|    fps              | 1        |\n",
            "|    time_elapsed     | 1280     |\n",
            "|    total_timesteps  | 2240     |\n",
            "| train/              |          |\n",
            "|    learning_rate    | 0.0001   |\n",
            "|    loss             | 0.0827   |\n",
            "|    n_updates        | 534      |\n",
            "----------------------------------\n",
            "----------------------------------\n",
            "| rollout/            |          |\n",
            "|    ep_len_mean      | 40       |\n",
            "|    ep_rew_mean      | 19.7     |\n",
            "|    exploration_rate | 0.05     |\n",
            "| time/               |          |\n",
            "|    episodes         | 60       |\n",
            "|    fps              | 1        |\n",
            "|    time_elapsed     | 1371     |\n",
            "|    total_timesteps  | 2400     |\n",
            "| train/              |          |\n",
            "|    learning_rate    | 0.0001   |\n",
            "|    loss             | 0.0945   |\n",
            "|    n_updates        | 574      |\n",
            "----------------------------------\n",
            "----------------------------------\n",
            "| rollout/            |          |\n",
            "|    ep_len_mean      | 40       |\n",
            "|    ep_rew_mean      | 20.2     |\n",
            "|    exploration_rate | 0.05     |\n",
            "| time/               |          |\n",
            "|    episodes         | 64       |\n",
            "|    fps              | 1        |\n",
            "|    time_elapsed     | 1460     |\n",
            "|    total_timesteps  | 2560     |\n",
            "| train/              |          |\n",
            "|    learning_rate    | 0.0001   |\n",
            "|    loss             | 0.0915   |\n",
            "|    n_updates        | 614      |\n",
            "----------------------------------\n",
            "----------------------------------\n",
            "| rollout/            |          |\n",
            "|    ep_len_mean      | 40       |\n",
            "|    ep_rew_mean      | 19.9     |\n",
            "|    exploration_rate | 0.05     |\n",
            "| time/               |          |\n",
            "|    episodes         | 68       |\n",
            "|    fps              | 1        |\n",
            "|    time_elapsed     | 1550     |\n",
            "|    total_timesteps  | 2720     |\n",
            "| train/              |          |\n",
            "|    learning_rate    | 0.0001   |\n",
            "|    loss             | 0.088    |\n",
            "|    n_updates        | 654      |\n",
            "----------------------------------\n",
            "----------------------------------\n",
            "| rollout/            |          |\n",
            "|    ep_len_mean      | 40       |\n",
            "|    ep_rew_mean      | 19.9     |\n",
            "|    exploration_rate | 0.05     |\n",
            "| time/               |          |\n",
            "|    episodes         | 72       |\n",
            "|    fps              | 1        |\n",
            "|    time_elapsed     | 1640     |\n",
            "|    total_timesteps  | 2880     |\n",
            "| train/              |          |\n",
            "|    learning_rate    | 0.0001   |\n",
            "|    loss             | 0.0748   |\n",
            "|    n_updates        | 694      |\n",
            "----------------------------------\n"
          ]
        },
        {
          "output_type": "execute_result",
          "data": {
            "text/plain": [
              "<stable_baselines3.dqn.dqn.DQN at 0x7fede010d360>"
            ]
          },
          "metadata": {},
          "execution_count": 94
        }
      ]
    },
    {
      "cell_type": "code",
      "source": [
        "# Calculate cumulative rewards\n",
        "#cumulative_rewards = np.cumsum(reward_callback.episode_rewards)\n",
        "#average_rewards = np.convolve(reward_callback.episode_rewards, np.ones(8)/8, mode='valid')\n",
        "\n",
        "cumulative_rewards = np.cumsum(reward_callback.episode_rewards)\n",
        "average_rewards = np.cumsum(reward_callback.episode_rewards) / np.arange(1, len(reward_callback.episode_rewards) + 1)\n",
        "\n",
        "# Plotting\n",
        "plt.figure(figsize=(12, 6))\n",
        "plt.plot(reward_callback.episode_rewards, label='Episode Reward')\n",
        "plt.plot(np.arange(len(average_rewards)), average_rewards, label='Average Reward (10 episode window)')\n",
        "plt.xlabel('Episode')\n",
        "plt.ylabel('Reward')\n",
        "plt.title('Cumulative and Average Rewards per Episode During Training')\n",
        "plt.legend()\n",
        "plt.show()"
      ],
      "metadata": {
        "id": "H2kxUFgogzL5",
        "outputId": "70db4b99-9d1b-4116-8878-94fd82726712",
        "colab": {
          "base_uri": "https://localhost:8080/",
          "height": 620
        }
      },
      "id": "H2kxUFgogzL5",
      "execution_count": 95,
      "outputs": [
        {
          "output_type": "stream",
          "name": "stderr",
          "text": [
            "/usr/local/lib/python3.10/dist-packages/ipykernel/ipkernel.py:283: DeprecationWarning: `should_run_async` will not call `transform_cell` automatically in the future. Please pass the result to `transformed_cell` argument and any exception that happen during thetransform in `preprocessing_exc_tuple` in IPython 7.17 and above.\n",
            "  and should_run_async(code)\n"
          ]
        },
        {
          "output_type": "display_data",
          "data": {
            "text/plain": [
              "<Figure size 1200x600 with 1 Axes>"
            ],
            "image/png": "[encoded data removed]"
          },
          "metadata": {}
        }
      ]
    },
    {
      "cell_type": "code",
      "source": [
        "# def evaluate_agent(env, model, episodes=5):\n",
        "#     evaluation_data = {\n",
        "#         'observations': [],\n",
        "#         'actions': [],\n",
        "#         'rewards': [],\n",
        "#         'cumulative_rewards': []\n",
        "#     }\n",
        "\n",
        "#     for episode in range(episodes):\n",
        "#         obs, info = env.reset()\n",
        "#         episode_rewards = 0\n",
        "#         done = False\n",
        "#         episode_observations = []\n",
        "#         episode_actions = []\n",
        "#         episode_rewards_list = []\n",
        "\n",
        "#         while not done:\n",
        "#             action, _ = model.predict(obs, deterministic=True)\n",
        "#             obs, reward, done, truncated, info = env.step(action)\n",
        "\n",
        "#             episode_observations.append(obs)\n",
        "#             episode_actions.append(action)\n",
        "#             episode_rewards_list.append(reward)\n",
        "#             episode_rewards += reward\n",
        "\n",
        "#         evaluation_data['observations'].append(episode_observations)\n",
        "#         evaluation_data['actions'].append(episode_actions)\n",
        "#         evaluation_data['rewards'].append(episode_rewards_list)\n",
        "#         evaluation_data['cumulative_rewards'].append(episode_rewards)\n",
        "\n",
        "#     return evaluation_data\n",
        "\n",
        "# # Run evaluation\n",
        "# evaluation_data = evaluate_agent(env, model, episodes=5)\n",
        "\n",
        "def evaluate_agent(env, model, discrete_actions, episodes=5):\n",
        "    evaluation_data = {\n",
        "        'observations': [],\n",
        "        'actions': [],\n",
        "        'rewards': [],\n",
        "        'cumulative_rewards': []\n",
        "    }\n",
        "\n",
        "    for episode in range(episodes):\n",
        "        obs, info = env.reset()\n",
        "        episode_rewards = 0\n",
        "        done = False\n",
        "        episode_observations = []\n",
        "        episode_actions = []\n",
        "        episode_rewards_list = []\n",
        "\n",
        "        while not done:\n",
        "            action_index, _ = model.predict(obs, deterministic=True)\n",
        "            action = discrete_actions[action_index]  # Map action index back to continuous action tuple\n",
        "\n",
        "            # Print action shape and value for debugging\n",
        "            print(\"Action index:\", action_index)\n",
        "            print(\"Mapped action value:\", action)\n",
        "\n",
        "            obs, reward, done, truncated, info = env.step(action)\n",
        "\n",
        "            episode_observations.append(obs)\n",
        "            episode_actions.append(action)  # Store the continuous action tuples\n",
        "            episode_rewards_list.append(reward)\n",
        "            episode_rewards += reward\n",
        "\n",
        "        evaluation_data['observations'].append(episode_observations)\n",
        "        evaluation_data['actions'].append(episode_actions)\n",
        "        evaluation_data['rewards'].append(episode_rewards_list)\n",
        "        evaluation_data['cumulative_rewards'].append(episode_rewards)\n",
        "\n",
        "    return evaluation_data\n",
        "\n",
        "    return evaluation_data\n",
        "# Run evaluation\n",
        "evaluation_data = evaluate_agent(env, model, discrete_actions, episodes=1)"
      ],
      "metadata": {
        "id": "PDY9YwP-wCfH",
        "outputId": "79a436cf-905d-4e07-c571-dc798317dd2a",
        "colab": {
          "base_uri": "https://localhost:8080/",
          "height": 371
        }
      },
      "id": "PDY9YwP-wCfH",
      "execution_count": 87,
      "outputs": [
        {
          "output_type": "stream",
          "name": "stdout",
          "text": [
            "Action index: 12\n",
            "Mapped action value: [0. 0.]\n"
          ]
        },
        {
          "output_type": "error",
          "ename": "IndexError",
          "evalue": "arrays used as indices must be of integer (or boolean) type",
          "traceback": [
            "\u001b[0;31m---------------------------------------------------------------------------\u001b[0m",
            "\u001b[0;31mIndexError\u001b[0m                                Traceback (most recent call last)",
            "\u001b[0;32m<ipython-input-87-f296c3a7c0fa>\u001b[0m in \u001b[0;36m<cell line: 76>\u001b[0;34m()\u001b[0m\n\u001b[1;32m     74\u001b[0m     \u001b[0;32mreturn\u001b[0m \u001b[0mevaluation_data\u001b[0m\u001b[0;34m\u001b[0m\u001b[0;34m\u001b[0m\u001b[0m\n\u001b[1;32m     75\u001b[0m \u001b[0;31m# Run evaluation\u001b[0m\u001b[0;34m\u001b[0m\u001b[0;34m\u001b[0m\u001b[0m\n\u001b[0;32m---> 76\u001b[0;31m \u001b[0mevaluation_data\u001b[0m \u001b[0;34m=\u001b[0m \u001b[0mevaluate_agent\u001b[0m\u001b[0;34m(\u001b[0m\u001b[0menv\u001b[0m\u001b[0;34m,\u001b[0m \u001b[0mmodel\u001b[0m\u001b[0;34m,\u001b[0m \u001b[0mdiscrete_actions\u001b[0m\u001b[0;34m,\u001b[0m \u001b[0mepisodes\u001b[0m\u001b[0;34m=\u001b[0m\u001b[0;36m1\u001b[0m\u001b[0;34m)\u001b[0m\u001b[0;34m\u001b[0m\u001b[0;34m\u001b[0m\u001b[0m\n\u001b[0m",
            "\u001b[0;32m<ipython-input-87-f296c3a7c0fa>\u001b[0m in \u001b[0;36mevaluate_agent\u001b[0;34m(env, model, discrete_actions, episodes)\u001b[0m\n\u001b[1;32m     58\u001b[0m             \u001b[0mprint\u001b[0m\u001b[0;34m(\u001b[0m\u001b[0;34m\"Mapped action value:\"\u001b[0m\u001b[0;34m,\u001b[0m \u001b[0maction\u001b[0m\u001b[0;34m)\u001b[0m\u001b[0;34m\u001b[0m\u001b[0;34m\u001b[0m\u001b[0m\n\u001b[1;32m     59\u001b[0m \u001b[0;34m\u001b[0m\u001b[0m\n\u001b[0;32m---> 60\u001b[0;31m             \u001b[0mobs\u001b[0m\u001b[0;34m,\u001b[0m \u001b[0mreward\u001b[0m\u001b[0;34m,\u001b[0m \u001b[0mdone\u001b[0m\u001b[0;34m,\u001b[0m \u001b[0mtruncated\u001b[0m\u001b[0;34m,\u001b[0m \u001b[0minfo\u001b[0m \u001b[0;34m=\u001b[0m \u001b[0menv\u001b[0m\u001b[0;34m.\u001b[0m\u001b[0mstep\u001b[0m\u001b[0;34m(\u001b[0m\u001b[0maction\u001b[0m\u001b[0;34m)\u001b[0m\u001b[0;34m\u001b[0m\u001b[0;34m\u001b[0m\u001b[0m\n\u001b[0m\u001b[1;32m     61\u001b[0m \u001b[0;34m\u001b[0m\u001b[0m\n\u001b[1;32m     62\u001b[0m             \u001b[0mepisode_observations\u001b[0m\u001b[0;34m.\u001b[0m\u001b[0mappend\u001b[0m\u001b[0;34m(\u001b[0m\u001b[0mobs\u001b[0m\u001b[0;34m)\u001b[0m\u001b[0;34m\u001b[0m\u001b[0;34m\u001b[0m\u001b[0m\n",
            "\u001b[0;32m<ipython-input-25-e74b473e5d15>\u001b[0m in \u001b[0;36mstep\u001b[0;34m(self, action)\u001b[0m\n\u001b[1;32m      7\u001b[0m \u001b[0;34m\u001b[0m\u001b[0m\n\u001b[1;32m      8\u001b[0m     \u001b[0;32mdef\u001b[0m \u001b[0mstep\u001b[0m\u001b[0;34m(\u001b[0m\u001b[0mself\u001b[0m\u001b[0;34m,\u001b[0m \u001b[0maction\u001b[0m\u001b[0;34m)\u001b[0m\u001b[0;34m:\u001b[0m\u001b[0;34m\u001b[0m\u001b[0;34m\u001b[0m\u001b[0m\n\u001b[0;32m----> 9\u001b[0;31m         \u001b[0mcontinuous_action\u001b[0m \u001b[0;34m=\u001b[0m \u001b[0mself\u001b[0m\u001b[0;34m.\u001b[0m\u001b[0mdiscrete_actions\u001b[0m\u001b[0;34m[\u001b[0m\u001b[0maction\u001b[0m\u001b[0;34m]\u001b[0m\u001b[0;34m\u001b[0m\u001b[0;34m\u001b[0m\u001b[0m\n\u001b[0m\u001b[1;32m     10\u001b[0m         \u001b[0mobs\u001b[0m\u001b[0;34m,\u001b[0m \u001b[0mreward\u001b[0m\u001b[0;34m,\u001b[0m \u001b[0mdone\u001b[0m\u001b[0;34m,\u001b[0m \u001b[0mtruncated\u001b[0m\u001b[0;34m,\u001b[0m \u001b[0minfo\u001b[0m \u001b[0;34m=\u001b[0m \u001b[0mself\u001b[0m\u001b[0;34m.\u001b[0m\u001b[0menv\u001b[0m\u001b[0;34m.\u001b[0m\u001b[0mstep\u001b[0m\u001b[0;34m(\u001b[0m\u001b[0mcontinuous_action\u001b[0m\u001b[0;34m)\u001b[0m\u001b[0;34m\u001b[0m\u001b[0;34m\u001b[0m\u001b[0m\n\u001b[1;32m     11\u001b[0m         \u001b[0;32mreturn\u001b[0m \u001b[0mobs\u001b[0m\u001b[0;34m,\u001b[0m \u001b[0mreward\u001b[0m\u001b[0;34m,\u001b[0m \u001b[0mdone\u001b[0m\u001b[0;34m,\u001b[0m \u001b[0mtruncated\u001b[0m\u001b[0;34m,\u001b[0m \u001b[0minfo\u001b[0m\u001b[0;34m\u001b[0m\u001b[0;34m\u001b[0m\u001b[0m\n",
            "\u001b[0;31mIndexError\u001b[0m: arrays used as indices must be of integer (or boolean) type"
          ]
        }
      ]
    },
    {
      "cell_type": "code",
      "source": [
        "# Ensure actions are collected as tuples and convert to 2D array\n",
        "first_episode_observations = np.array(evaluation_data['observations'][0])\n",
        "first_episode_actions = np.array(evaluation_data['actions'][0], dtype=object)\n",
        "first_episode_rewards = np.array(evaluation_data['rewards'][0])\n",
        "\n",
        "# Print the shape of the actions to debug\n",
        "print(\"Shape of first_episode_actions before vstack:\", first_episode_actions.shape)\n",
        "\n",
        "# Convert actions to a 2D numpy array by stacking\n",
        "first_episode_actions = np.array([list(action) for action in first_episode_actions])\n",
        "\n",
        "# Print the shape after stacking to verify\n",
        "print(\"Shape of first_episode_actions after conversion:\", first_episode_actions.shape)\n",
        "\n",
        "# Ensure the array has the correct dimensions\n",
        "if first_episode_actions.shape[1] == 2:\n",
        "    # Plot steering and acceleration actions separately\n",
        "    plt.figure(figsize=(12, 6))\n",
        "    plt.plot(first_episode_actions[:, 0], label='Steering Actions')\n",
        "    plt.plot(first_episode_actions[:, 1], label='Acceleration Actions')\n",
        "    plt.xlabel('Time Step')\n",
        "    plt.ylabel('Action Value')\n",
        "    plt.title('Actions Taken by Agent in First Evaluation Episode')\n",
        "    plt.legend()\n",
        "    plt.show()\n",
        "else:\n",
        "    print(\"Error: Actions array does not have two columns as expected.\")"
      ],
      "metadata": {
        "id": "2K2LqFaLwCcd",
        "outputId": "cac9ed88-85df-46c9-a25a-ccc0fc03a33d",
        "colab": {
          "base_uri": "https://localhost:8080/",
          "height": 365
        }
      },
      "id": "2K2LqFaLwCcd",
      "execution_count": 81,
      "outputs": [
        {
          "output_type": "stream",
          "name": "stdout",
          "text": [
            "Shape of first_episode_actions before vstack: (38,)\n"
          ]
        },
        {
          "output_type": "error",
          "ename": "TypeError",
          "evalue": "iteration over a 0-d array",
          "traceback": [
            "\u001b[0;31m---------------------------------------------------------------------------\u001b[0m",
            "\u001b[0;31mTypeError\u001b[0m                                 Traceback (most recent call last)",
            "\u001b[0;32m<ipython-input-81-d39b2b2a6945>\u001b[0m in \u001b[0;36m<cell line: 10>\u001b[0;34m()\u001b[0m\n\u001b[1;32m      8\u001b[0m \u001b[0;34m\u001b[0m\u001b[0m\n\u001b[1;32m      9\u001b[0m \u001b[0;31m# Convert actions to a 2D numpy array by stacking\u001b[0m\u001b[0;34m\u001b[0m\u001b[0;34m\u001b[0m\u001b[0m\n\u001b[0;32m---> 10\u001b[0;31m \u001b[0mfirst_episode_actions\u001b[0m \u001b[0;34m=\u001b[0m \u001b[0mnp\u001b[0m\u001b[0;34m.\u001b[0m\u001b[0marray\u001b[0m\u001b[0;34m(\u001b[0m\u001b[0;34m[\u001b[0m\u001b[0mlist\u001b[0m\u001b[0;34m(\u001b[0m\u001b[0maction\u001b[0m\u001b[0;34m)\u001b[0m \u001b[0;32mfor\u001b[0m \u001b[0maction\u001b[0m \u001b[0;32min\u001b[0m \u001b[0mfirst_episode_actions\u001b[0m\u001b[0;34m]\u001b[0m\u001b[0;34m)\u001b[0m\u001b[0;34m\u001b[0m\u001b[0;34m\u001b[0m\u001b[0m\n\u001b[0m\u001b[1;32m     11\u001b[0m \u001b[0;34m\u001b[0m\u001b[0m\n\u001b[1;32m     12\u001b[0m \u001b[0;31m# Print the shape after stacking to verify\u001b[0m\u001b[0;34m\u001b[0m\u001b[0;34m\u001b[0m\u001b[0m\n",
            "\u001b[0;32m<ipython-input-81-d39b2b2a6945>\u001b[0m in \u001b[0;36m<listcomp>\u001b[0;34m(.0)\u001b[0m\n\u001b[1;32m      8\u001b[0m \u001b[0;34m\u001b[0m\u001b[0m\n\u001b[1;32m      9\u001b[0m \u001b[0;31m# Convert actions to a 2D numpy array by stacking\u001b[0m\u001b[0;34m\u001b[0m\u001b[0;34m\u001b[0m\u001b[0m\n\u001b[0;32m---> 10\u001b[0;31m \u001b[0mfirst_episode_actions\u001b[0m \u001b[0;34m=\u001b[0m \u001b[0mnp\u001b[0m\u001b[0;34m.\u001b[0m\u001b[0marray\u001b[0m\u001b[0;34m(\u001b[0m\u001b[0;34m[\u001b[0m\u001b[0mlist\u001b[0m\u001b[0;34m(\u001b[0m\u001b[0maction\u001b[0m\u001b[0;34m)\u001b[0m \u001b[0;32mfor\u001b[0m \u001b[0maction\u001b[0m \u001b[0;32min\u001b[0m \u001b[0mfirst_episode_actions\u001b[0m\u001b[0;34m]\u001b[0m\u001b[0;34m)\u001b[0m\u001b[0;34m\u001b[0m\u001b[0;34m\u001b[0m\u001b[0m\n\u001b[0m\u001b[1;32m     11\u001b[0m \u001b[0;34m\u001b[0m\u001b[0m\n\u001b[1;32m     12\u001b[0m \u001b[0;31m# Print the shape after stacking to verify\u001b[0m\u001b[0;34m\u001b[0m\u001b[0;34m\u001b[0m\u001b[0m\n",
            "\u001b[0;31mTypeError\u001b[0m: iteration over a 0-d array"
          ]
        }
      ]
    },
    {
      "cell_type": "markdown",
      "id": "d66f0daf",
      "metadata": {
        "id": "d66f0daf"
      },
      "source": [
        "## Solution 4\n",
        "Environment Observation Type: Kinematics\\\n",
        "Agent Action Type: ContinuousActions\\\n",
        "Algorithm Used: A2C"
      ]
    },
    {
      "cell_type": "code",
      "execution_count": null,
      "id": "45811a3b",
      "metadata": {
        "id": "45811a3b"
      },
      "outputs": [],
      "source": [
        "kinematics_continuous_configuration = {\n",
        "    \"lanes_count\": 4,\n",
        "    \"vehicles_count\": 50,\n",
        "    \"duration\": 40,  # Maximum duration of each episode in seconds\n",
        "    \"other_vehicles_type\": \"highway_env.vehicle.behavior.IDMVehicle\",\n",
        "    \"initial_spacing\": 2,\n",
        "    \"observation\": {\n",
        "        \"type\": \"Kinematics\",\n",
        "        \"features\": [\"x\", \"y\", \"vx\", \"vy\"],\n",
        "    },\n",
        "    \"action\": {\n",
        "        \"type\": \"ContinuousAction\",\n",
        "        \"acceleration_range\": (-5, 5.0),\n",
        "        \"steering_range\": (-0.7853981633974483, 0.7853981633974483),\n",
        "        \"longitudinal\": True,\n",
        "        \"lateral\": True,\n",
        "        \"dynamical\": False,\n",
        "        \"clip\": True\n",
        "    },\n",
        "    \"collision_reward\": -10,\n",
        "    \"reward_speed_range\": [20, 30],\n",
        "    \"simulation_frequency\": 15,\n",
        "    \"policy_frequency\": 1,\n",
        "    \"screen_width\": 800,\n",
        "    \"screen_height\": 600,\n",
        "    \"centering_position\": [0.5, 0.5],\n",
        "    \"scaling\": 5,\n",
        "    \"show_trajectories\": True,\n",
        "    \"render_agent\": True,\n",
        "    \"offscreen_rendering\": False,\n",
        "}\n",
        "\n",
        "env = gym.make('highway-v0', config=kinematics_continuous_configuration, render_mode='human')"
      ]
    },
    {
      "cell_type": "code",
      "execution_count": null,
      "id": "428b3be2",
      "metadata": {
        "colab": {
          "base_uri": "https://localhost:8080/"
        },
        "id": "428b3be2",
        "outputId": "b7a7bae7-3473-48b4-bf28-f551799e5d2c"
      },
      "outputs": [
        {
          "output_type": "stream",
          "name": "stdout",
          "text": [
            "Using cuda device\n",
            "Wrapping the env with a `Monitor` wrapper\n",
            "Wrapping the env in a DummyVecEnv.\n"
          ]
        }
      ],
      "source": [
        "model = A2C('MlpPolicy', env, verbose=1, learning_rate=1e-3, n_steps=5, gamma=0.99, device='cuda')\n",
        "\n",
        "model.learn(total_timesteps=100)\n",
        "\n",
        "model.save(\"a2c_highway\")\n",
        "\n",
        "# model = A2C.load(\"a2c_highway\", env=env)"
      ]
    },
    {
      "cell_type": "code",
      "source": [
        "obs, _ = env.reset()\n",
        "total_reward = 0\n",
        "done = False\n",
        "steps = 0\n",
        "\n",
        "while not done and steps < 200:\n",
        "    env.render()\n",
        "    action, _ = model.predict(obs)\n",
        "    obs, reward, done, truncated, info = env.step(action)\n",
        "    total_reward += reward\n",
        "    steps += 1\n",
        "\n",
        "env.close()\n",
        "print(f\"Total Reward during Visualization: {total_reward}\")"
      ],
      "metadata": {
        "colab": {
          "base_uri": "https://localhost:8080/"
        },
        "id": "8QCyJuXEwzRd",
        "outputId": "0b480eaf-ed62-48ec-ef51-ab36087cb92b"
      },
      "id": "8QCyJuXEwzRd",
      "execution_count": null,
      "outputs": [
        {
          "output_type": "stream",
          "name": "stderr",
          "text": [
            "/usr/local/lib/python3.10/dist-packages/ipykernel/ipkernel.py:283: DeprecationWarning: `should_run_async` will not call `transform_cell` automatically in the future. Please pass the result to `transformed_cell` argument and any exception that happen during thetransform in `preprocessing_exc_tuple` in IPython 7.17 and above.\n",
            "  and should_run_async(code)\n"
          ]
        },
        {
          "output_type": "stream",
          "name": "stdout",
          "text": [
            "Total Reward during Visualization: 7.71274118476135\n"
          ]
        }
      ]
    },
    {
      "cell_type": "code",
      "source": [],
      "metadata": {
        "id": "MNmuctrGYYWN"
      },
      "id": "MNmuctrGYYWN",
      "execution_count": null,
      "outputs": []
    }
  ],
  "metadata": {
    "kernelspec": {
      "display_name": "Python 3",
      "name": "python3"
    },
    "language_info": {
      "codemirror_mode": {
        "name": "ipython",
        "version": 3
      },
      "file_extension": ".py",
      "mimetype": "text/x-python",
      "name": "python",
      "nbconvert_exporter": "python",
      "pygments_lexer": "ipython3",
      "version": "3.11.3"
    },
    "colab": {
      "provenance": [],
      "gpuType": "T4",
      "include_colab_link": true
    },
    "accelerator": "GPU"
  },
  "nbformat": 4,
  "nbformat_minor": 5
}